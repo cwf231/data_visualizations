{
 "cells": [
  {
   "cell_type": "markdown",
   "id": "48a68140",
   "metadata": {
    "slideshow": {
     "slide_type": "slide"
    }
   },
   "source": [
    "## Phase 1\n",
    "\n",
    "# Data Visualizations: A Primer\n",
    "\n",
    "## Why do we visualize data?"
   ]
  },
  {
   "cell_type": "code",
   "execution_count": 1,
   "id": "8e0119a3",
   "metadata": {
    "ExecuteTime": {
     "end_time": "2022-04-22T20:09:18.093931Z",
     "start_time": "2022-04-22T20:09:16.900923Z"
    },
    "slideshow": {
     "slide_type": "skip"
    }
   },
   "outputs": [],
   "source": [
    "import pandas as pd\n",
    "import numpy as np\n",
    "import seaborn as sns\n",
    "import matplotlib.pyplot as plt"
   ]
  },
  {
   "cell_type": "code",
   "execution_count": 2,
   "id": "44919891",
   "metadata": {
    "ExecuteTime": {
     "end_time": "2022-04-22T20:09:18.107156Z",
     "start_time": "2022-04-22T20:09:18.096664Z"
    },
    "slideshow": {
     "slide_type": "skip"
    }
   },
   "outputs": [],
   "source": [
    "plt.style.use('seaborn-talk')\n",
    "np.random.seed(2021)\n",
    "pd.set_option(\"display.max_columns\", None)\n",
    "\n",
    "df = pd.read_csv('data/anscombes_quartet.csv', index_col=0)"
   ]
  },
  {
   "cell_type": "markdown",
   "id": "fdbeaddd",
   "metadata": {
    "slideshow": {
     "slide_type": "slide"
    }
   },
   "source": [
    "### Looking at the Tables\n",
    "*Below we see four datasets, each with two dimensions.*\n",
    "\n",
    "> *`(x_I, y_I), (x_II, y_II), ...`, etc*\n",
    "\n",
    "*Let's look at the raw data. Can we make any insights?*"
   ]
  },
  {
   "cell_type": "code",
   "execution_count": 3,
   "id": "12826b64",
   "metadata": {
    "ExecuteTime": {
     "end_time": "2022-04-22T20:09:18.112694Z",
     "start_time": "2022-04-22T20:09:18.109005Z"
    },
    "slideshow": {
     "slide_type": "skip"
    }
   },
   "outputs": [],
   "source": [
    "blue = {'background-color': '#00FFFF'}\n",
    "blue_cols = [c for c in df.columns if c.endswith('_I') or c.endswith('_III')]\n",
    "\n",
    "yellow = {'background-color': '#FFFFCC'}\n",
    "yellow_cols = [c for c in df.columns if c.endswith('_II') or c.endswith('_IV')]"
   ]
  },
  {
   "cell_type": "code",
   "execution_count": 4,
   "id": "847cb24c",
   "metadata": {
    "ExecuteTime": {
     "end_time": "2022-04-22T20:09:18.240513Z",
     "start_time": "2022-04-22T20:09:18.114779Z"
    },
    "slideshow": {
     "slide_type": "slide"
    }
   },
   "outputs": [
    {
     "data": {
      "text/html": [
       "<style  type=\"text/css\" >\n",
       "#T_172a8376_c278_11ec_8f14_acde48001122row0_col0,#T_172a8376_c278_11ec_8f14_acde48001122row0_col1,#T_172a8376_c278_11ec_8f14_acde48001122row0_col4,#T_172a8376_c278_11ec_8f14_acde48001122row0_col5,#T_172a8376_c278_11ec_8f14_acde48001122row1_col0,#T_172a8376_c278_11ec_8f14_acde48001122row1_col1,#T_172a8376_c278_11ec_8f14_acde48001122row1_col4,#T_172a8376_c278_11ec_8f14_acde48001122row1_col5,#T_172a8376_c278_11ec_8f14_acde48001122row2_col0,#T_172a8376_c278_11ec_8f14_acde48001122row2_col1,#T_172a8376_c278_11ec_8f14_acde48001122row2_col4,#T_172a8376_c278_11ec_8f14_acde48001122row2_col5,#T_172a8376_c278_11ec_8f14_acde48001122row3_col0,#T_172a8376_c278_11ec_8f14_acde48001122row3_col1,#T_172a8376_c278_11ec_8f14_acde48001122row3_col4,#T_172a8376_c278_11ec_8f14_acde48001122row3_col5,#T_172a8376_c278_11ec_8f14_acde48001122row4_col0,#T_172a8376_c278_11ec_8f14_acde48001122row4_col1,#T_172a8376_c278_11ec_8f14_acde48001122row4_col4,#T_172a8376_c278_11ec_8f14_acde48001122row4_col5,#T_172a8376_c278_11ec_8f14_acde48001122row5_col0,#T_172a8376_c278_11ec_8f14_acde48001122row5_col1,#T_172a8376_c278_11ec_8f14_acde48001122row5_col4,#T_172a8376_c278_11ec_8f14_acde48001122row5_col5,#T_172a8376_c278_11ec_8f14_acde48001122row6_col0,#T_172a8376_c278_11ec_8f14_acde48001122row6_col1,#T_172a8376_c278_11ec_8f14_acde48001122row6_col4,#T_172a8376_c278_11ec_8f14_acde48001122row6_col5,#T_172a8376_c278_11ec_8f14_acde48001122row7_col0,#T_172a8376_c278_11ec_8f14_acde48001122row7_col1,#T_172a8376_c278_11ec_8f14_acde48001122row7_col4,#T_172a8376_c278_11ec_8f14_acde48001122row7_col5,#T_172a8376_c278_11ec_8f14_acde48001122row8_col0,#T_172a8376_c278_11ec_8f14_acde48001122row8_col1,#T_172a8376_c278_11ec_8f14_acde48001122row8_col4,#T_172a8376_c278_11ec_8f14_acde48001122row8_col5,#T_172a8376_c278_11ec_8f14_acde48001122row9_col0,#T_172a8376_c278_11ec_8f14_acde48001122row9_col1,#T_172a8376_c278_11ec_8f14_acde48001122row9_col4,#T_172a8376_c278_11ec_8f14_acde48001122row9_col5,#T_172a8376_c278_11ec_8f14_acde48001122row10_col0,#T_172a8376_c278_11ec_8f14_acde48001122row10_col1,#T_172a8376_c278_11ec_8f14_acde48001122row10_col4,#T_172a8376_c278_11ec_8f14_acde48001122row10_col5{\n",
       "            background-color:  #00FFFF;\n",
       "        }#T_172a8376_c278_11ec_8f14_acde48001122row0_col2,#T_172a8376_c278_11ec_8f14_acde48001122row0_col3,#T_172a8376_c278_11ec_8f14_acde48001122row0_col6,#T_172a8376_c278_11ec_8f14_acde48001122row0_col7,#T_172a8376_c278_11ec_8f14_acde48001122row1_col2,#T_172a8376_c278_11ec_8f14_acde48001122row1_col3,#T_172a8376_c278_11ec_8f14_acde48001122row1_col6,#T_172a8376_c278_11ec_8f14_acde48001122row1_col7,#T_172a8376_c278_11ec_8f14_acde48001122row2_col2,#T_172a8376_c278_11ec_8f14_acde48001122row2_col3,#T_172a8376_c278_11ec_8f14_acde48001122row2_col6,#T_172a8376_c278_11ec_8f14_acde48001122row2_col7,#T_172a8376_c278_11ec_8f14_acde48001122row3_col2,#T_172a8376_c278_11ec_8f14_acde48001122row3_col3,#T_172a8376_c278_11ec_8f14_acde48001122row3_col6,#T_172a8376_c278_11ec_8f14_acde48001122row3_col7,#T_172a8376_c278_11ec_8f14_acde48001122row4_col2,#T_172a8376_c278_11ec_8f14_acde48001122row4_col3,#T_172a8376_c278_11ec_8f14_acde48001122row4_col6,#T_172a8376_c278_11ec_8f14_acde48001122row4_col7,#T_172a8376_c278_11ec_8f14_acde48001122row5_col2,#T_172a8376_c278_11ec_8f14_acde48001122row5_col3,#T_172a8376_c278_11ec_8f14_acde48001122row5_col6,#T_172a8376_c278_11ec_8f14_acde48001122row5_col7,#T_172a8376_c278_11ec_8f14_acde48001122row6_col2,#T_172a8376_c278_11ec_8f14_acde48001122row6_col3,#T_172a8376_c278_11ec_8f14_acde48001122row6_col6,#T_172a8376_c278_11ec_8f14_acde48001122row6_col7,#T_172a8376_c278_11ec_8f14_acde48001122row7_col2,#T_172a8376_c278_11ec_8f14_acde48001122row7_col3,#T_172a8376_c278_11ec_8f14_acde48001122row7_col6,#T_172a8376_c278_11ec_8f14_acde48001122row7_col7,#T_172a8376_c278_11ec_8f14_acde48001122row8_col2,#T_172a8376_c278_11ec_8f14_acde48001122row8_col3,#T_172a8376_c278_11ec_8f14_acde48001122row8_col6,#T_172a8376_c278_11ec_8f14_acde48001122row8_col7,#T_172a8376_c278_11ec_8f14_acde48001122row9_col2,#T_172a8376_c278_11ec_8f14_acde48001122row9_col3,#T_172a8376_c278_11ec_8f14_acde48001122row9_col6,#T_172a8376_c278_11ec_8f14_acde48001122row9_col7,#T_172a8376_c278_11ec_8f14_acde48001122row10_col2,#T_172a8376_c278_11ec_8f14_acde48001122row10_col3,#T_172a8376_c278_11ec_8f14_acde48001122row10_col6,#T_172a8376_c278_11ec_8f14_acde48001122row10_col7{\n",
       "            background-color:  #FFFFCC;\n",
       "        }</style><table id=\"T_172a8376_c278_11ec_8f14_acde48001122\" ><thead>    <tr>        <th class=\"blank level0\" ></th>        <th class=\"col_heading level0 col0\" >x_I</th>        <th class=\"col_heading level0 col1\" >y_I</th>        <th class=\"col_heading level0 col2\" >x_II</th>        <th class=\"col_heading level0 col3\" >y_II</th>        <th class=\"col_heading level0 col4\" >x_III</th>        <th class=\"col_heading level0 col5\" >y_III</th>        <th class=\"col_heading level0 col6\" >x_IV</th>        <th class=\"col_heading level0 col7\" >y_IV</th>    </tr></thead><tbody>\n",
       "                <tr>\n",
       "                        <th id=\"T_172a8376_c278_11ec_8f14_acde48001122level0_row0\" class=\"row_heading level0 row0\" >0</th>\n",
       "                        <td id=\"T_172a8376_c278_11ec_8f14_acde48001122row0_col0\" class=\"data row0 col0\" >10.000000</td>\n",
       "                        <td id=\"T_172a8376_c278_11ec_8f14_acde48001122row0_col1\" class=\"data row0 col1\" >8.040000</td>\n",
       "                        <td id=\"T_172a8376_c278_11ec_8f14_acde48001122row0_col2\" class=\"data row0 col2\" >10.000000</td>\n",
       "                        <td id=\"T_172a8376_c278_11ec_8f14_acde48001122row0_col3\" class=\"data row0 col3\" >9.140000</td>\n",
       "                        <td id=\"T_172a8376_c278_11ec_8f14_acde48001122row0_col4\" class=\"data row0 col4\" >10.000000</td>\n",
       "                        <td id=\"T_172a8376_c278_11ec_8f14_acde48001122row0_col5\" class=\"data row0 col5\" >7.460000</td>\n",
       "                        <td id=\"T_172a8376_c278_11ec_8f14_acde48001122row0_col6\" class=\"data row0 col6\" >8.000000</td>\n",
       "                        <td id=\"T_172a8376_c278_11ec_8f14_acde48001122row0_col7\" class=\"data row0 col7\" >6.580000</td>\n",
       "            </tr>\n",
       "            <tr>\n",
       "                        <th id=\"T_172a8376_c278_11ec_8f14_acde48001122level0_row1\" class=\"row_heading level0 row1\" >1</th>\n",
       "                        <td id=\"T_172a8376_c278_11ec_8f14_acde48001122row1_col0\" class=\"data row1 col0\" >8.000000</td>\n",
       "                        <td id=\"T_172a8376_c278_11ec_8f14_acde48001122row1_col1\" class=\"data row1 col1\" >6.950000</td>\n",
       "                        <td id=\"T_172a8376_c278_11ec_8f14_acde48001122row1_col2\" class=\"data row1 col2\" >8.000000</td>\n",
       "                        <td id=\"T_172a8376_c278_11ec_8f14_acde48001122row1_col3\" class=\"data row1 col3\" >8.140000</td>\n",
       "                        <td id=\"T_172a8376_c278_11ec_8f14_acde48001122row1_col4\" class=\"data row1 col4\" >8.000000</td>\n",
       "                        <td id=\"T_172a8376_c278_11ec_8f14_acde48001122row1_col5\" class=\"data row1 col5\" >6.770000</td>\n",
       "                        <td id=\"T_172a8376_c278_11ec_8f14_acde48001122row1_col6\" class=\"data row1 col6\" >8.000000</td>\n",
       "                        <td id=\"T_172a8376_c278_11ec_8f14_acde48001122row1_col7\" class=\"data row1 col7\" >5.760000</td>\n",
       "            </tr>\n",
       "            <tr>\n",
       "                        <th id=\"T_172a8376_c278_11ec_8f14_acde48001122level0_row2\" class=\"row_heading level0 row2\" >2</th>\n",
       "                        <td id=\"T_172a8376_c278_11ec_8f14_acde48001122row2_col0\" class=\"data row2 col0\" >13.000000</td>\n",
       "                        <td id=\"T_172a8376_c278_11ec_8f14_acde48001122row2_col1\" class=\"data row2 col1\" >7.580000</td>\n",
       "                        <td id=\"T_172a8376_c278_11ec_8f14_acde48001122row2_col2\" class=\"data row2 col2\" >13.000000</td>\n",
       "                        <td id=\"T_172a8376_c278_11ec_8f14_acde48001122row2_col3\" class=\"data row2 col3\" >8.740000</td>\n",
       "                        <td id=\"T_172a8376_c278_11ec_8f14_acde48001122row2_col4\" class=\"data row2 col4\" >13.000000</td>\n",
       "                        <td id=\"T_172a8376_c278_11ec_8f14_acde48001122row2_col5\" class=\"data row2 col5\" >12.740000</td>\n",
       "                        <td id=\"T_172a8376_c278_11ec_8f14_acde48001122row2_col6\" class=\"data row2 col6\" >8.000000</td>\n",
       "                        <td id=\"T_172a8376_c278_11ec_8f14_acde48001122row2_col7\" class=\"data row2 col7\" >7.710000</td>\n",
       "            </tr>\n",
       "            <tr>\n",
       "                        <th id=\"T_172a8376_c278_11ec_8f14_acde48001122level0_row3\" class=\"row_heading level0 row3\" >3</th>\n",
       "                        <td id=\"T_172a8376_c278_11ec_8f14_acde48001122row3_col0\" class=\"data row3 col0\" >9.000000</td>\n",
       "                        <td id=\"T_172a8376_c278_11ec_8f14_acde48001122row3_col1\" class=\"data row3 col1\" >8.810000</td>\n",
       "                        <td id=\"T_172a8376_c278_11ec_8f14_acde48001122row3_col2\" class=\"data row3 col2\" >9.000000</td>\n",
       "                        <td id=\"T_172a8376_c278_11ec_8f14_acde48001122row3_col3\" class=\"data row3 col3\" >8.770000</td>\n",
       "                        <td id=\"T_172a8376_c278_11ec_8f14_acde48001122row3_col4\" class=\"data row3 col4\" >9.000000</td>\n",
       "                        <td id=\"T_172a8376_c278_11ec_8f14_acde48001122row3_col5\" class=\"data row3 col5\" >7.110000</td>\n",
       "                        <td id=\"T_172a8376_c278_11ec_8f14_acde48001122row3_col6\" class=\"data row3 col6\" >8.000000</td>\n",
       "                        <td id=\"T_172a8376_c278_11ec_8f14_acde48001122row3_col7\" class=\"data row3 col7\" >8.840000</td>\n",
       "            </tr>\n",
       "            <tr>\n",
       "                        <th id=\"T_172a8376_c278_11ec_8f14_acde48001122level0_row4\" class=\"row_heading level0 row4\" >4</th>\n",
       "                        <td id=\"T_172a8376_c278_11ec_8f14_acde48001122row4_col0\" class=\"data row4 col0\" >11.000000</td>\n",
       "                        <td id=\"T_172a8376_c278_11ec_8f14_acde48001122row4_col1\" class=\"data row4 col1\" >8.330000</td>\n",
       "                        <td id=\"T_172a8376_c278_11ec_8f14_acde48001122row4_col2\" class=\"data row4 col2\" >11.000000</td>\n",
       "                        <td id=\"T_172a8376_c278_11ec_8f14_acde48001122row4_col3\" class=\"data row4 col3\" >9.260000</td>\n",
       "                        <td id=\"T_172a8376_c278_11ec_8f14_acde48001122row4_col4\" class=\"data row4 col4\" >11.000000</td>\n",
       "                        <td id=\"T_172a8376_c278_11ec_8f14_acde48001122row4_col5\" class=\"data row4 col5\" >7.810000</td>\n",
       "                        <td id=\"T_172a8376_c278_11ec_8f14_acde48001122row4_col6\" class=\"data row4 col6\" >8.000000</td>\n",
       "                        <td id=\"T_172a8376_c278_11ec_8f14_acde48001122row4_col7\" class=\"data row4 col7\" >8.470000</td>\n",
       "            </tr>\n",
       "            <tr>\n",
       "                        <th id=\"T_172a8376_c278_11ec_8f14_acde48001122level0_row5\" class=\"row_heading level0 row5\" >5</th>\n",
       "                        <td id=\"T_172a8376_c278_11ec_8f14_acde48001122row5_col0\" class=\"data row5 col0\" >14.000000</td>\n",
       "                        <td id=\"T_172a8376_c278_11ec_8f14_acde48001122row5_col1\" class=\"data row5 col1\" >9.960000</td>\n",
       "                        <td id=\"T_172a8376_c278_11ec_8f14_acde48001122row5_col2\" class=\"data row5 col2\" >14.000000</td>\n",
       "                        <td id=\"T_172a8376_c278_11ec_8f14_acde48001122row5_col3\" class=\"data row5 col3\" >8.100000</td>\n",
       "                        <td id=\"T_172a8376_c278_11ec_8f14_acde48001122row5_col4\" class=\"data row5 col4\" >14.000000</td>\n",
       "                        <td id=\"T_172a8376_c278_11ec_8f14_acde48001122row5_col5\" class=\"data row5 col5\" >8.840000</td>\n",
       "                        <td id=\"T_172a8376_c278_11ec_8f14_acde48001122row5_col6\" class=\"data row5 col6\" >8.000000</td>\n",
       "                        <td id=\"T_172a8376_c278_11ec_8f14_acde48001122row5_col7\" class=\"data row5 col7\" >7.040000</td>\n",
       "            </tr>\n",
       "            <tr>\n",
       "                        <th id=\"T_172a8376_c278_11ec_8f14_acde48001122level0_row6\" class=\"row_heading level0 row6\" >6</th>\n",
       "                        <td id=\"T_172a8376_c278_11ec_8f14_acde48001122row6_col0\" class=\"data row6 col0\" >6.000000</td>\n",
       "                        <td id=\"T_172a8376_c278_11ec_8f14_acde48001122row6_col1\" class=\"data row6 col1\" >7.240000</td>\n",
       "                        <td id=\"T_172a8376_c278_11ec_8f14_acde48001122row6_col2\" class=\"data row6 col2\" >6.000000</td>\n",
       "                        <td id=\"T_172a8376_c278_11ec_8f14_acde48001122row6_col3\" class=\"data row6 col3\" >6.130000</td>\n",
       "                        <td id=\"T_172a8376_c278_11ec_8f14_acde48001122row6_col4\" class=\"data row6 col4\" >6.000000</td>\n",
       "                        <td id=\"T_172a8376_c278_11ec_8f14_acde48001122row6_col5\" class=\"data row6 col5\" >6.080000</td>\n",
       "                        <td id=\"T_172a8376_c278_11ec_8f14_acde48001122row6_col6\" class=\"data row6 col6\" >8.000000</td>\n",
       "                        <td id=\"T_172a8376_c278_11ec_8f14_acde48001122row6_col7\" class=\"data row6 col7\" >5.250000</td>\n",
       "            </tr>\n",
       "            <tr>\n",
       "                        <th id=\"T_172a8376_c278_11ec_8f14_acde48001122level0_row7\" class=\"row_heading level0 row7\" >7</th>\n",
       "                        <td id=\"T_172a8376_c278_11ec_8f14_acde48001122row7_col0\" class=\"data row7 col0\" >4.000000</td>\n",
       "                        <td id=\"T_172a8376_c278_11ec_8f14_acde48001122row7_col1\" class=\"data row7 col1\" >4.260000</td>\n",
       "                        <td id=\"T_172a8376_c278_11ec_8f14_acde48001122row7_col2\" class=\"data row7 col2\" >4.000000</td>\n",
       "                        <td id=\"T_172a8376_c278_11ec_8f14_acde48001122row7_col3\" class=\"data row7 col3\" >3.100000</td>\n",
       "                        <td id=\"T_172a8376_c278_11ec_8f14_acde48001122row7_col4\" class=\"data row7 col4\" >4.000000</td>\n",
       "                        <td id=\"T_172a8376_c278_11ec_8f14_acde48001122row7_col5\" class=\"data row7 col5\" >5.390000</td>\n",
       "                        <td id=\"T_172a8376_c278_11ec_8f14_acde48001122row7_col6\" class=\"data row7 col6\" >19.000000</td>\n",
       "                        <td id=\"T_172a8376_c278_11ec_8f14_acde48001122row7_col7\" class=\"data row7 col7\" >12.500000</td>\n",
       "            </tr>\n",
       "            <tr>\n",
       "                        <th id=\"T_172a8376_c278_11ec_8f14_acde48001122level0_row8\" class=\"row_heading level0 row8\" >8</th>\n",
       "                        <td id=\"T_172a8376_c278_11ec_8f14_acde48001122row8_col0\" class=\"data row8 col0\" >12.000000</td>\n",
       "                        <td id=\"T_172a8376_c278_11ec_8f14_acde48001122row8_col1\" class=\"data row8 col1\" >10.840000</td>\n",
       "                        <td id=\"T_172a8376_c278_11ec_8f14_acde48001122row8_col2\" class=\"data row8 col2\" >12.000000</td>\n",
       "                        <td id=\"T_172a8376_c278_11ec_8f14_acde48001122row8_col3\" class=\"data row8 col3\" >9.130000</td>\n",
       "                        <td id=\"T_172a8376_c278_11ec_8f14_acde48001122row8_col4\" class=\"data row8 col4\" >12.000000</td>\n",
       "                        <td id=\"T_172a8376_c278_11ec_8f14_acde48001122row8_col5\" class=\"data row8 col5\" >8.150000</td>\n",
       "                        <td id=\"T_172a8376_c278_11ec_8f14_acde48001122row8_col6\" class=\"data row8 col6\" >8.000000</td>\n",
       "                        <td id=\"T_172a8376_c278_11ec_8f14_acde48001122row8_col7\" class=\"data row8 col7\" >5.560000</td>\n",
       "            </tr>\n",
       "            <tr>\n",
       "                        <th id=\"T_172a8376_c278_11ec_8f14_acde48001122level0_row9\" class=\"row_heading level0 row9\" >9</th>\n",
       "                        <td id=\"T_172a8376_c278_11ec_8f14_acde48001122row9_col0\" class=\"data row9 col0\" >7.000000</td>\n",
       "                        <td id=\"T_172a8376_c278_11ec_8f14_acde48001122row9_col1\" class=\"data row9 col1\" >4.820000</td>\n",
       "                        <td id=\"T_172a8376_c278_11ec_8f14_acde48001122row9_col2\" class=\"data row9 col2\" >7.000000</td>\n",
       "                        <td id=\"T_172a8376_c278_11ec_8f14_acde48001122row9_col3\" class=\"data row9 col3\" >7.260000</td>\n",
       "                        <td id=\"T_172a8376_c278_11ec_8f14_acde48001122row9_col4\" class=\"data row9 col4\" >7.000000</td>\n",
       "                        <td id=\"T_172a8376_c278_11ec_8f14_acde48001122row9_col5\" class=\"data row9 col5\" >6.420000</td>\n",
       "                        <td id=\"T_172a8376_c278_11ec_8f14_acde48001122row9_col6\" class=\"data row9 col6\" >8.000000</td>\n",
       "                        <td id=\"T_172a8376_c278_11ec_8f14_acde48001122row9_col7\" class=\"data row9 col7\" >7.910000</td>\n",
       "            </tr>\n",
       "            <tr>\n",
       "                        <th id=\"T_172a8376_c278_11ec_8f14_acde48001122level0_row10\" class=\"row_heading level0 row10\" >10</th>\n",
       "                        <td id=\"T_172a8376_c278_11ec_8f14_acde48001122row10_col0\" class=\"data row10 col0\" >5.000000</td>\n",
       "                        <td id=\"T_172a8376_c278_11ec_8f14_acde48001122row10_col1\" class=\"data row10 col1\" >5.680000</td>\n",
       "                        <td id=\"T_172a8376_c278_11ec_8f14_acde48001122row10_col2\" class=\"data row10 col2\" >5.000000</td>\n",
       "                        <td id=\"T_172a8376_c278_11ec_8f14_acde48001122row10_col3\" class=\"data row10 col3\" >4.740000</td>\n",
       "                        <td id=\"T_172a8376_c278_11ec_8f14_acde48001122row10_col4\" class=\"data row10 col4\" >5.000000</td>\n",
       "                        <td id=\"T_172a8376_c278_11ec_8f14_acde48001122row10_col5\" class=\"data row10 col5\" >5.730000</td>\n",
       "                        <td id=\"T_172a8376_c278_11ec_8f14_acde48001122row10_col6\" class=\"data row10 col6\" >8.000000</td>\n",
       "                        <td id=\"T_172a8376_c278_11ec_8f14_acde48001122row10_col7\" class=\"data row10 col7\" >6.890000</td>\n",
       "            </tr>\n",
       "    </tbody></table>"
      ],
      "text/plain": [
       "<pandas.io.formats.style.Styler at 0x7f999ecd8ef0>"
      ]
     },
     "execution_count": 4,
     "metadata": {},
     "output_type": "execute_result"
    }
   ],
   "source": [
    "# Look at the table(s).\n",
    "(df\n",
    " .style\n",
    " .set_properties(**blue, subset=blue_cols)\n",
    " .set_properties(**yellow, subset=yellow_cols)\n",
    ")"
   ]
  },
  {
   "cell_type": "markdown",
   "id": "2c598665",
   "metadata": {
    "slideshow": {
     "slide_type": "slide"
    }
   },
   "source": [
    "### Looking at the descriptive statistics.\n",
    "*Perhaps more insight can be gained by reading into the descriptive statistics.*"
   ]
  },
  {
   "cell_type": "code",
   "execution_count": 5,
   "id": "05bdb053",
   "metadata": {
    "ExecuteTime": {
     "end_time": "2022-04-22T20:09:18.250581Z",
     "start_time": "2022-04-22T20:09:18.245099Z"
    },
    "slideshow": {
     "slide_type": "skip"
    }
   },
   "outputs": [],
   "source": [
    "# Compare descriptive statistics.\n",
    "def compare_stats(df):\n",
    "    for xidx, yidx in zip(df.columns, df.columns[1:]):\n",
    "        if xidx.startswith('y'):\n",
    "            continue\n",
    "        print(xidx)\n",
    "        print(f'Mean of x:\\t\\t{df[xidx].mean()}')\n",
    "        print(f'Variance of x:\\t\\t{df[xidx].var()}')\n",
    "        print(f'Mean of y:\\t\\t{round(df[yidx].mean(), 2)}')\n",
    "        print(f'Variance of y:\\t\\t{round(df[yidx].var(), 3)}')\n",
    "        corr_value = round(df[[xidx, yidx]].corr().iloc[0, 1], 3)\n",
    "        print(f'Correlation of x, y:\\t{corr_value}')\n",
    "        print('*'*40)\n",
    "        print()"
   ]
  },
  {
   "cell_type": "code",
   "execution_count": 6,
   "id": "c5f2218f",
   "metadata": {
    "ExecuteTime": {
     "end_time": "2022-04-22T20:09:18.267105Z",
     "start_time": "2022-04-22T20:09:18.254432Z"
    },
    "slideshow": {
     "slide_type": "slide"
    }
   },
   "outputs": [
    {
     "name": "stdout",
     "output_type": "stream",
     "text": [
      "x_I\n",
      "Mean of x:\t\t9.0\n",
      "Variance of x:\t\t11.0\n",
      "Mean of y:\t\t7.5\n",
      "Variance of y:\t\t4.127\n",
      "Correlation of x, y:\t0.816\n",
      "****************************************\n",
      "\n",
      "x_II\n",
      "Mean of x:\t\t9.0\n",
      "Variance of x:\t\t11.0\n",
      "Mean of y:\t\t7.5\n",
      "Variance of y:\t\t4.128\n",
      "Correlation of x, y:\t0.816\n",
      "****************************************\n",
      "\n",
      "x_III\n",
      "Mean of x:\t\t9.0\n",
      "Variance of x:\t\t11.0\n",
      "Mean of y:\t\t7.5\n",
      "Variance of y:\t\t4.123\n",
      "Correlation of x, y:\t0.816\n",
      "****************************************\n",
      "\n",
      "x_IV\n",
      "Mean of x:\t\t9.0\n",
      "Variance of x:\t\t11.0\n",
      "Mean of y:\t\t7.5\n",
      "Variance of y:\t\t4.123\n",
      "Correlation of x, y:\t0.817\n",
      "****************************************\n",
      "\n"
     ]
    }
   ],
   "source": [
    "# Look at the stats.\n",
    "compare_stats(df)"
   ]
  },
  {
   "cell_type": "markdown",
   "id": "345ac2f0",
   "metadata": {
    "slideshow": {
     "slide_type": "slide"
    }
   },
   "source": [
    "### Plotting the datasets.\n",
    "*We should now attempt to see this dataset geographically.*"
   ]
  },
  {
   "cell_type": "code",
   "execution_count": 7,
   "id": "08d5fc97",
   "metadata": {
    "ExecuteTime": {
     "end_time": "2022-04-22T20:09:18.274883Z",
     "start_time": "2022-04-22T20:09:18.269064Z"
    },
    "slideshow": {
     "slide_type": "skip"
    }
   },
   "outputs": [],
   "source": [
    "def plot_anscombe(df):\n",
    "    with plt.style.context('seaborn-talk'):\n",
    "        fig, ax_lst = plt.subplots(\n",
    "            ncols=2, nrows=2, figsize=(10, 10), sharex=True, sharey=True)\n",
    "        for ax, label in zip(ax_lst.flatten(), ['I', 'II', 'III', 'IV']):\n",
    "            x_col = f'x_{label}'\n",
    "            y_col = f'y_{label}'\n",
    "            ax.scatter(x=df[x_col], y=df[y_col])\n",
    "            ax.set(title=label)\n",
    "        plt.tight_layout()\n",
    "        plt.show()"
   ]
  },
  {
   "cell_type": "code",
   "execution_count": 8,
   "id": "4e6fbaac",
   "metadata": {
    "ExecuteTime": {
     "end_time": "2022-04-22T20:09:18.694570Z",
     "start_time": "2022-04-22T20:09:18.277197Z"
    },
    "slideshow": {
     "slide_type": "slide"
    }
   },
   "outputs": [
    {
     "data": {
      "image/png": "[encoded data removed]",
      "text/plain": [
       "<Figure size 720x720 with 4 Axes>"
      ]
     },
     "metadata": {
      "needs_background": "light"
     },
     "output_type": "display_data"
    }
   ],
   "source": [
    "# Look at the plots.\n",
    "plot_anscombe(df)"
   ]
  },
  {
   "cell_type": "markdown",
   "id": "1ceeb0f2",
   "metadata": {
    "slideshow": {
     "slide_type": "slide"
    }
   },
   "source": [
    "### Anscombe's Quartet: Background\n",
    "> *https://en.wikipedia.org/wiki/Anscombe%27s_quartet*"
   ]
  },
  {
   "cell_type": "markdown",
   "id": "6909cee1",
   "metadata": {
    "slideshow": {
     "slide_type": "subslide"
    }
   },
   "source": [
    "- The above example is a demonstration created by statistician **Francis Anscombe** in 1973. \n",
    "- There was a famous idea (from fellow statisticians) that \"*numerical calculations are exact, but graphs are rough.*\""
   ]
  },
  {
   "cell_type": "markdown",
   "id": "939e319c",
   "metadata": {
    "slideshow": {
     "slide_type": "subslide"
    }
   },
   "source": [
    "- The demonstration above is a very clear refutation to this concept. \n",
    "- With the given datasets, the exact opposite is shown: *numerical calculations can be **misleading**, while graphs can be **insightful**.*"
   ]
  },
  {
   "cell_type": "markdown",
   "id": "51dc12cb",
   "metadata": {
    "slideshow": {
     "slide_type": "subslide"
    }
   },
   "source": [
    "- There is even more to note about the datasets beyond the descriptive statistics:\n",
    "    - All linear regression lines have the same slope and intercept.\n",
    "        $$\\large y = 3.00 + 0.500x$$\n",
    "    - All linear regression *coefficient of determinations* *($R^2$)* are the same. \n",
    "        $$\\large R^2 = 0.67 $$"
   ]
  },
  {
   "cell_type": "markdown",
   "id": "9bb53bba",
   "metadata": {
    "slideshow": {
     "slide_type": "slide"
    }
   },
   "source": [
    "## How do we visualize data?\n",
    "\n",
    "### Pre-attentive Attributes\n",
    "> **Pre-attentive processing** is the subconscious accumulation of information from the environment. All available information is pre-attentively processed. Then, the brain filters and processes what is important. Information that has the highest salience (a stimulus that stands out the most) or relevance to what a person is thinking about is selected for further and more complete analysis by conscious (attentive) processing. Understanding how pre-attentive processing works is useful in advertising, in education, and for prediction of cognitive ability.\n",
    ">\n",
    "> - <a href='https://en.wikipedia.org/wiki/Pre-attentive_processing'>*Pre-attentive_processing - Wiki*</a>"
   ]
  },
  {
   "cell_type": "markdown",
   "id": "2717703c",
   "metadata": {
    "slideshow": {
     "slide_type": "subslide"
    }
   },
   "source": [
    "- Simply put, *pre-attentive attributes* are attributes our brain processes before we consciously pay attention to them."
   ]
  },
  {
   "cell_type": "code",
   "execution_count": 9,
   "id": "db6d5135",
   "metadata": {
    "ExecuteTime": {
     "end_time": "2022-04-22T20:09:18.699545Z",
     "start_time": "2022-04-22T20:09:18.696627Z"
    },
    "slideshow": {
     "slide_type": "skip"
    }
   },
   "outputs": [],
   "source": [
    "# Create a number grid for demo.\n",
    "NUMBER_GRID = np.random.randint(1, 10, size=(10, 10))"
   ]
  },
  {
   "cell_type": "code",
   "execution_count": 10,
   "id": "eb74cfc2",
   "metadata": {
    "ExecuteTime": {
     "end_time": "2022-04-22T20:09:18.714345Z",
     "start_time": "2022-04-22T20:09:18.701162Z"
    },
    "slideshow": {
     "slide_type": "slide"
    }
   },
   "outputs": [
    {
     "data": {
      "text/html": [
       "<div>\n",
       "<style scoped>\n",
       "    .dataframe tbody tr th:only-of-type {\n",
       "        vertical-align: middle;\n",
       "    }\n",
       "\n",
       "    .dataframe tbody tr th {\n",
       "        vertical-align: top;\n",
       "    }\n",
       "\n",
       "    .dataframe thead th {\n",
       "        text-align: right;\n",
       "    }\n",
       "</style>\n",
       "<table border=\"1\" class=\"dataframe\">\n",
       "  <thead>\n",
       "    <tr style=\"text-align: right;\">\n",
       "      <th></th>\n",
       "      <th>0</th>\n",
       "      <th>1</th>\n",
       "      <th>2</th>\n",
       "      <th>3</th>\n",
       "      <th>4</th>\n",
       "      <th>5</th>\n",
       "      <th>6</th>\n",
       "      <th>7</th>\n",
       "      <th>8</th>\n",
       "      <th>9</th>\n",
       "    </tr>\n",
       "  </thead>\n",
       "  <tbody>\n",
       "    <tr>\n",
       "      <th>0</th>\n",
       "      <td>5</td>\n",
       "      <td>6</td>\n",
       "      <td>1</td>\n",
       "      <td>7</td>\n",
       "      <td>6</td>\n",
       "      <td>9</td>\n",
       "      <td>7</td>\n",
       "      <td>7</td>\n",
       "      <td>7</td>\n",
       "      <td>7</td>\n",
       "    </tr>\n",
       "    <tr>\n",
       "      <th>1</th>\n",
       "      <td>2</td>\n",
       "      <td>6</td>\n",
       "      <td>8</td>\n",
       "      <td>2</td>\n",
       "      <td>2</td>\n",
       "      <td>6</td>\n",
       "      <td>3</td>\n",
       "      <td>1</td>\n",
       "      <td>4</td>\n",
       "      <td>2</td>\n",
       "    </tr>\n",
       "    <tr>\n",
       "      <th>2</th>\n",
       "      <td>1</td>\n",
       "      <td>3</td>\n",
       "      <td>7</td>\n",
       "      <td>5</td>\n",
       "      <td>9</td>\n",
       "      <td>6</td>\n",
       "      <td>2</td>\n",
       "      <td>7</td>\n",
       "      <td>8</td>\n",
       "      <td>6</td>\n",
       "    </tr>\n",
       "    <tr>\n",
       "      <th>3</th>\n",
       "      <td>7</td>\n",
       "      <td>6</td>\n",
       "      <td>7</td>\n",
       "      <td>3</td>\n",
       "      <td>5</td>\n",
       "      <td>4</td>\n",
       "      <td>3</td>\n",
       "      <td>9</td>\n",
       "      <td>6</td>\n",
       "      <td>4</td>\n",
       "    </tr>\n",
       "    <tr>\n",
       "      <th>4</th>\n",
       "      <td>2</td>\n",
       "      <td>2</td>\n",
       "      <td>3</td>\n",
       "      <td>8</td>\n",
       "      <td>6</td>\n",
       "      <td>4</td>\n",
       "      <td>8</td>\n",
       "      <td>4</td>\n",
       "      <td>5</td>\n",
       "      <td>8</td>\n",
       "    </tr>\n",
       "    <tr>\n",
       "      <th>5</th>\n",
       "      <td>8</td>\n",
       "      <td>8</td>\n",
       "      <td>5</td>\n",
       "      <td>4</td>\n",
       "      <td>3</td>\n",
       "      <td>3</td>\n",
       "      <td>6</td>\n",
       "      <td>3</td>\n",
       "      <td>1</td>\n",
       "      <td>5</td>\n",
       "    </tr>\n",
       "    <tr>\n",
       "      <th>6</th>\n",
       "      <td>8</td>\n",
       "      <td>4</td>\n",
       "      <td>2</td>\n",
       "      <td>5</td>\n",
       "      <td>3</td>\n",
       "      <td>4</td>\n",
       "      <td>7</td>\n",
       "      <td>7</td>\n",
       "      <td>7</td>\n",
       "      <td>2</td>\n",
       "    </tr>\n",
       "    <tr>\n",
       "      <th>7</th>\n",
       "      <td>6</td>\n",
       "      <td>8</td>\n",
       "      <td>2</td>\n",
       "      <td>6</td>\n",
       "      <td>1</td>\n",
       "      <td>1</td>\n",
       "      <td>5</td>\n",
       "      <td>8</td>\n",
       "      <td>4</td>\n",
       "      <td>5</td>\n",
       "    </tr>\n",
       "    <tr>\n",
       "      <th>8</th>\n",
       "      <td>8</td>\n",
       "      <td>1</td>\n",
       "      <td>4</td>\n",
       "      <td>7</td>\n",
       "      <td>4</td>\n",
       "      <td>2</td>\n",
       "      <td>4</td>\n",
       "      <td>7</td>\n",
       "      <td>2</td>\n",
       "      <td>9</td>\n",
       "    </tr>\n",
       "    <tr>\n",
       "      <th>9</th>\n",
       "      <td>1</td>\n",
       "      <td>6</td>\n",
       "      <td>1</td>\n",
       "      <td>8</td>\n",
       "      <td>1</td>\n",
       "      <td>2</td>\n",
       "      <td>4</td>\n",
       "      <td>7</td>\n",
       "      <td>5</td>\n",
       "      <td>8</td>\n",
       "    </tr>\n",
       "  </tbody>\n",
       "</table>\n",
       "</div>"
      ],
      "text/plain": [
       "   0  1  2  3  4  5  6  7  8  9\n",
       "0  5  6  1  7  6  9  7  7  7  7\n",
       "1  2  6  8  2  2  6  3  1  4  2\n",
       "2  1  3  7  5  9  6  2  7  8  6\n",
       "3  7  6  7  3  5  4  3  9  6  4\n",
       "4  2  2  3  8  6  4  8  4  5  8\n",
       "5  8  8  5  4  3  3  6  3  1  5\n",
       "6  8  4  2  5  3  4  7  7  7  2\n",
       "7  6  8  2  6  1  1  5  8  4  5\n",
       "8  8  1  4  7  4  2  4  7  2  9\n",
       "9  1  6  1  8  1  2  4  7  5  8"
      ]
     },
     "execution_count": 10,
     "metadata": {},
     "output_type": "execute_result"
    }
   ],
   "source": [
    "# Count the number of `9`s in this matrix.\n",
    "pd.DataFrame(NUMBER_GRID)"
   ]
  },
  {
   "cell_type": "code",
   "execution_count": 11,
   "id": "e455e674",
   "metadata": {
    "ExecuteTime": {
     "end_time": "2022-04-22T20:09:18.742207Z",
     "start_time": "2022-04-22T20:09:18.716171Z"
    },
    "slideshow": {
     "slide_type": "slide"
    }
   },
   "outputs": [
    {
     "data": {
      "text/html": [
       "<style  type=\"text/css\" >\n",
       "#T_1779409c_c278_11ec_b971_acde48001122row0_col5,#T_1779409c_c278_11ec_b971_acde48001122row2_col4,#T_1779409c_c278_11ec_b971_acde48001122row3_col7,#T_1779409c_c278_11ec_b971_acde48001122row8_col9{\n",
       "            background-color:  yellow;\n",
       "        }</style><table id=\"T_1779409c_c278_11ec_b971_acde48001122\" ><thead>    <tr>        <th class=\"blank level0\" ></th>        <th class=\"col_heading level0 col0\" >0</th>        <th class=\"col_heading level0 col1\" >1</th>        <th class=\"col_heading level0 col2\" >2</th>        <th class=\"col_heading level0 col3\" >3</th>        <th class=\"col_heading level0 col4\" >4</th>        <th class=\"col_heading level0 col5\" >5</th>        <th class=\"col_heading level0 col6\" >6</th>        <th class=\"col_heading level0 col7\" >7</th>        <th class=\"col_heading level0 col8\" >8</th>        <th class=\"col_heading level0 col9\" >9</th>    </tr></thead><tbody>\n",
       "                <tr>\n",
       "                        <th id=\"T_1779409c_c278_11ec_b971_acde48001122level0_row0\" class=\"row_heading level0 row0\" >0</th>\n",
       "                        <td id=\"T_1779409c_c278_11ec_b971_acde48001122row0_col0\" class=\"data row0 col0\" >5</td>\n",
       "                        <td id=\"T_1779409c_c278_11ec_b971_acde48001122row0_col1\" class=\"data row0 col1\" >6</td>\n",
       "                        <td id=\"T_1779409c_c278_11ec_b971_acde48001122row0_col2\" class=\"data row0 col2\" >1</td>\n",
       "                        <td id=\"T_1779409c_c278_11ec_b971_acde48001122row0_col3\" class=\"data row0 col3\" >7</td>\n",
       "                        <td id=\"T_1779409c_c278_11ec_b971_acde48001122row0_col4\" class=\"data row0 col4\" >6</td>\n",
       "                        <td id=\"T_1779409c_c278_11ec_b971_acde48001122row0_col5\" class=\"data row0 col5\" >9</td>\n",
       "                        <td id=\"T_1779409c_c278_11ec_b971_acde48001122row0_col6\" class=\"data row0 col6\" >7</td>\n",
       "                        <td id=\"T_1779409c_c278_11ec_b971_acde48001122row0_col7\" class=\"data row0 col7\" >7</td>\n",
       "                        <td id=\"T_1779409c_c278_11ec_b971_acde48001122row0_col8\" class=\"data row0 col8\" >7</td>\n",
       "                        <td id=\"T_1779409c_c278_11ec_b971_acde48001122row0_col9\" class=\"data row0 col9\" >7</td>\n",
       "            </tr>\n",
       "            <tr>\n",
       "                        <th id=\"T_1779409c_c278_11ec_b971_acde48001122level0_row1\" class=\"row_heading level0 row1\" >1</th>\n",
       "                        <td id=\"T_1779409c_c278_11ec_b971_acde48001122row1_col0\" class=\"data row1 col0\" >2</td>\n",
       "                        <td id=\"T_1779409c_c278_11ec_b971_acde48001122row1_col1\" class=\"data row1 col1\" >6</td>\n",
       "                        <td id=\"T_1779409c_c278_11ec_b971_acde48001122row1_col2\" class=\"data row1 col2\" >8</td>\n",
       "                        <td id=\"T_1779409c_c278_11ec_b971_acde48001122row1_col3\" class=\"data row1 col3\" >2</td>\n",
       "                        <td id=\"T_1779409c_c278_11ec_b971_acde48001122row1_col4\" class=\"data row1 col4\" >2</td>\n",
       "                        <td id=\"T_1779409c_c278_11ec_b971_acde48001122row1_col5\" class=\"data row1 col5\" >6</td>\n",
       "                        <td id=\"T_1779409c_c278_11ec_b971_acde48001122row1_col6\" class=\"data row1 col6\" >3</td>\n",
       "                        <td id=\"T_1779409c_c278_11ec_b971_acde48001122row1_col7\" class=\"data row1 col7\" >1</td>\n",
       "                        <td id=\"T_1779409c_c278_11ec_b971_acde48001122row1_col8\" class=\"data row1 col8\" >4</td>\n",
       "                        <td id=\"T_1779409c_c278_11ec_b971_acde48001122row1_col9\" class=\"data row1 col9\" >2</td>\n",
       "            </tr>\n",
       "            <tr>\n",
       "                        <th id=\"T_1779409c_c278_11ec_b971_acde48001122level0_row2\" class=\"row_heading level0 row2\" >2</th>\n",
       "                        <td id=\"T_1779409c_c278_11ec_b971_acde48001122row2_col0\" class=\"data row2 col0\" >1</td>\n",
       "                        <td id=\"T_1779409c_c278_11ec_b971_acde48001122row2_col1\" class=\"data row2 col1\" >3</td>\n",
       "                        <td id=\"T_1779409c_c278_11ec_b971_acde48001122row2_col2\" class=\"data row2 col2\" >7</td>\n",
       "                        <td id=\"T_1779409c_c278_11ec_b971_acde48001122row2_col3\" class=\"data row2 col3\" >5</td>\n",
       "                        <td id=\"T_1779409c_c278_11ec_b971_acde48001122row2_col4\" class=\"data row2 col4\" >9</td>\n",
       "                        <td id=\"T_1779409c_c278_11ec_b971_acde48001122row2_col5\" class=\"data row2 col5\" >6</td>\n",
       "                        <td id=\"T_1779409c_c278_11ec_b971_acde48001122row2_col6\" class=\"data row2 col6\" >2</td>\n",
       "                        <td id=\"T_1779409c_c278_11ec_b971_acde48001122row2_col7\" class=\"data row2 col7\" >7</td>\n",
       "                        <td id=\"T_1779409c_c278_11ec_b971_acde48001122row2_col8\" class=\"data row2 col8\" >8</td>\n",
       "                        <td id=\"T_1779409c_c278_11ec_b971_acde48001122row2_col9\" class=\"data row2 col9\" >6</td>\n",
       "            </tr>\n",
       "            <tr>\n",
       "                        <th id=\"T_1779409c_c278_11ec_b971_acde48001122level0_row3\" class=\"row_heading level0 row3\" >3</th>\n",
       "                        <td id=\"T_1779409c_c278_11ec_b971_acde48001122row3_col0\" class=\"data row3 col0\" >7</td>\n",
       "                        <td id=\"T_1779409c_c278_11ec_b971_acde48001122row3_col1\" class=\"data row3 col1\" >6</td>\n",
       "                        <td id=\"T_1779409c_c278_11ec_b971_acde48001122row3_col2\" class=\"data row3 col2\" >7</td>\n",
       "                        <td id=\"T_1779409c_c278_11ec_b971_acde48001122row3_col3\" class=\"data row3 col3\" >3</td>\n",
       "                        <td id=\"T_1779409c_c278_11ec_b971_acde48001122row3_col4\" class=\"data row3 col4\" >5</td>\n",
       "                        <td id=\"T_1779409c_c278_11ec_b971_acde48001122row3_col5\" class=\"data row3 col5\" >4</td>\n",
       "                        <td id=\"T_1779409c_c278_11ec_b971_acde48001122row3_col6\" class=\"data row3 col6\" >3</td>\n",
       "                        <td id=\"T_1779409c_c278_11ec_b971_acde48001122row3_col7\" class=\"data row3 col7\" >9</td>\n",
       "                        <td id=\"T_1779409c_c278_11ec_b971_acde48001122row3_col8\" class=\"data row3 col8\" >6</td>\n",
       "                        <td id=\"T_1779409c_c278_11ec_b971_acde48001122row3_col9\" class=\"data row3 col9\" >4</td>\n",
       "            </tr>\n",
       "            <tr>\n",
       "                        <th id=\"T_1779409c_c278_11ec_b971_acde48001122level0_row4\" class=\"row_heading level0 row4\" >4</th>\n",
       "                        <td id=\"T_1779409c_c278_11ec_b971_acde48001122row4_col0\" class=\"data row4 col0\" >2</td>\n",
       "                        <td id=\"T_1779409c_c278_11ec_b971_acde48001122row4_col1\" class=\"data row4 col1\" >2</td>\n",
       "                        <td id=\"T_1779409c_c278_11ec_b971_acde48001122row4_col2\" class=\"data row4 col2\" >3</td>\n",
       "                        <td id=\"T_1779409c_c278_11ec_b971_acde48001122row4_col3\" class=\"data row4 col3\" >8</td>\n",
       "                        <td id=\"T_1779409c_c278_11ec_b971_acde48001122row4_col4\" class=\"data row4 col4\" >6</td>\n",
       "                        <td id=\"T_1779409c_c278_11ec_b971_acde48001122row4_col5\" class=\"data row4 col5\" >4</td>\n",
       "                        <td id=\"T_1779409c_c278_11ec_b971_acde48001122row4_col6\" class=\"data row4 col6\" >8</td>\n",
       "                        <td id=\"T_1779409c_c278_11ec_b971_acde48001122row4_col7\" class=\"data row4 col7\" >4</td>\n",
       "                        <td id=\"T_1779409c_c278_11ec_b971_acde48001122row4_col8\" class=\"data row4 col8\" >5</td>\n",
       "                        <td id=\"T_1779409c_c278_11ec_b971_acde48001122row4_col9\" class=\"data row4 col9\" >8</td>\n",
       "            </tr>\n",
       "            <tr>\n",
       "                        <th id=\"T_1779409c_c278_11ec_b971_acde48001122level0_row5\" class=\"row_heading level0 row5\" >5</th>\n",
       "                        <td id=\"T_1779409c_c278_11ec_b971_acde48001122row5_col0\" class=\"data row5 col0\" >8</td>\n",
       "                        <td id=\"T_1779409c_c278_11ec_b971_acde48001122row5_col1\" class=\"data row5 col1\" >8</td>\n",
       "                        <td id=\"T_1779409c_c278_11ec_b971_acde48001122row5_col2\" class=\"data row5 col2\" >5</td>\n",
       "                        <td id=\"T_1779409c_c278_11ec_b971_acde48001122row5_col3\" class=\"data row5 col3\" >4</td>\n",
       "                        <td id=\"T_1779409c_c278_11ec_b971_acde48001122row5_col4\" class=\"data row5 col4\" >3</td>\n",
       "                        <td id=\"T_1779409c_c278_11ec_b971_acde48001122row5_col5\" class=\"data row5 col5\" >3</td>\n",
       "                        <td id=\"T_1779409c_c278_11ec_b971_acde48001122row5_col6\" class=\"data row5 col6\" >6</td>\n",
       "                        <td id=\"T_1779409c_c278_11ec_b971_acde48001122row5_col7\" class=\"data row5 col7\" >3</td>\n",
       "                        <td id=\"T_1779409c_c278_11ec_b971_acde48001122row5_col8\" class=\"data row5 col8\" >1</td>\n",
       "                        <td id=\"T_1779409c_c278_11ec_b971_acde48001122row5_col9\" class=\"data row5 col9\" >5</td>\n",
       "            </tr>\n",
       "            <tr>\n",
       "                        <th id=\"T_1779409c_c278_11ec_b971_acde48001122level0_row6\" class=\"row_heading level0 row6\" >6</th>\n",
       "                        <td id=\"T_1779409c_c278_11ec_b971_acde48001122row6_col0\" class=\"data row6 col0\" >8</td>\n",
       "                        <td id=\"T_1779409c_c278_11ec_b971_acde48001122row6_col1\" class=\"data row6 col1\" >4</td>\n",
       "                        <td id=\"T_1779409c_c278_11ec_b971_acde48001122row6_col2\" class=\"data row6 col2\" >2</td>\n",
       "                        <td id=\"T_1779409c_c278_11ec_b971_acde48001122row6_col3\" class=\"data row6 col3\" >5</td>\n",
       "                        <td id=\"T_1779409c_c278_11ec_b971_acde48001122row6_col4\" class=\"data row6 col4\" >3</td>\n",
       "                        <td id=\"T_1779409c_c278_11ec_b971_acde48001122row6_col5\" class=\"data row6 col5\" >4</td>\n",
       "                        <td id=\"T_1779409c_c278_11ec_b971_acde48001122row6_col6\" class=\"data row6 col6\" >7</td>\n",
       "                        <td id=\"T_1779409c_c278_11ec_b971_acde48001122row6_col7\" class=\"data row6 col7\" >7</td>\n",
       "                        <td id=\"T_1779409c_c278_11ec_b971_acde48001122row6_col8\" class=\"data row6 col8\" >7</td>\n",
       "                        <td id=\"T_1779409c_c278_11ec_b971_acde48001122row6_col9\" class=\"data row6 col9\" >2</td>\n",
       "            </tr>\n",
       "            <tr>\n",
       "                        <th id=\"T_1779409c_c278_11ec_b971_acde48001122level0_row7\" class=\"row_heading level0 row7\" >7</th>\n",
       "                        <td id=\"T_1779409c_c278_11ec_b971_acde48001122row7_col0\" class=\"data row7 col0\" >6</td>\n",
       "                        <td id=\"T_1779409c_c278_11ec_b971_acde48001122row7_col1\" class=\"data row7 col1\" >8</td>\n",
       "                        <td id=\"T_1779409c_c278_11ec_b971_acde48001122row7_col2\" class=\"data row7 col2\" >2</td>\n",
       "                        <td id=\"T_1779409c_c278_11ec_b971_acde48001122row7_col3\" class=\"data row7 col3\" >6</td>\n",
       "                        <td id=\"T_1779409c_c278_11ec_b971_acde48001122row7_col4\" class=\"data row7 col4\" >1</td>\n",
       "                        <td id=\"T_1779409c_c278_11ec_b971_acde48001122row7_col5\" class=\"data row7 col5\" >1</td>\n",
       "                        <td id=\"T_1779409c_c278_11ec_b971_acde48001122row7_col6\" class=\"data row7 col6\" >5</td>\n",
       "                        <td id=\"T_1779409c_c278_11ec_b971_acde48001122row7_col7\" class=\"data row7 col7\" >8</td>\n",
       "                        <td id=\"T_1779409c_c278_11ec_b971_acde48001122row7_col8\" class=\"data row7 col8\" >4</td>\n",
       "                        <td id=\"T_1779409c_c278_11ec_b971_acde48001122row7_col9\" class=\"data row7 col9\" >5</td>\n",
       "            </tr>\n",
       "            <tr>\n",
       "                        <th id=\"T_1779409c_c278_11ec_b971_acde48001122level0_row8\" class=\"row_heading level0 row8\" >8</th>\n",
       "                        <td id=\"T_1779409c_c278_11ec_b971_acde48001122row8_col0\" class=\"data row8 col0\" >8</td>\n",
       "                        <td id=\"T_1779409c_c278_11ec_b971_acde48001122row8_col1\" class=\"data row8 col1\" >1</td>\n",
       "                        <td id=\"T_1779409c_c278_11ec_b971_acde48001122row8_col2\" class=\"data row8 col2\" >4</td>\n",
       "                        <td id=\"T_1779409c_c278_11ec_b971_acde48001122row8_col3\" class=\"data row8 col3\" >7</td>\n",
       "                        <td id=\"T_1779409c_c278_11ec_b971_acde48001122row8_col4\" class=\"data row8 col4\" >4</td>\n",
       "                        <td id=\"T_1779409c_c278_11ec_b971_acde48001122row8_col5\" class=\"data row8 col5\" >2</td>\n",
       "                        <td id=\"T_1779409c_c278_11ec_b971_acde48001122row8_col6\" class=\"data row8 col6\" >4</td>\n",
       "                        <td id=\"T_1779409c_c278_11ec_b971_acde48001122row8_col7\" class=\"data row8 col7\" >7</td>\n",
       "                        <td id=\"T_1779409c_c278_11ec_b971_acde48001122row8_col8\" class=\"data row8 col8\" >2</td>\n",
       "                        <td id=\"T_1779409c_c278_11ec_b971_acde48001122row8_col9\" class=\"data row8 col9\" >9</td>\n",
       "            </tr>\n",
       "            <tr>\n",
       "                        <th id=\"T_1779409c_c278_11ec_b971_acde48001122level0_row9\" class=\"row_heading level0 row9\" >9</th>\n",
       "                        <td id=\"T_1779409c_c278_11ec_b971_acde48001122row9_col0\" class=\"data row9 col0\" >1</td>\n",
       "                        <td id=\"T_1779409c_c278_11ec_b971_acde48001122row9_col1\" class=\"data row9 col1\" >6</td>\n",
       "                        <td id=\"T_1779409c_c278_11ec_b971_acde48001122row9_col2\" class=\"data row9 col2\" >1</td>\n",
       "                        <td id=\"T_1779409c_c278_11ec_b971_acde48001122row9_col3\" class=\"data row9 col3\" >8</td>\n",
       "                        <td id=\"T_1779409c_c278_11ec_b971_acde48001122row9_col4\" class=\"data row9 col4\" >1</td>\n",
       "                        <td id=\"T_1779409c_c278_11ec_b971_acde48001122row9_col5\" class=\"data row9 col5\" >2</td>\n",
       "                        <td id=\"T_1779409c_c278_11ec_b971_acde48001122row9_col6\" class=\"data row9 col6\" >4</td>\n",
       "                        <td id=\"T_1779409c_c278_11ec_b971_acde48001122row9_col7\" class=\"data row9 col7\" >7</td>\n",
       "                        <td id=\"T_1779409c_c278_11ec_b971_acde48001122row9_col8\" class=\"data row9 col8\" >5</td>\n",
       "                        <td id=\"T_1779409c_c278_11ec_b971_acde48001122row9_col9\" class=\"data row9 col9\" >8</td>\n",
       "            </tr>\n",
       "    </tbody></table>"
      ],
      "text/plain": [
       "<pandas.io.formats.style.Styler at 0x7f99a32ae048>"
      ]
     },
     "execution_count": 11,
     "metadata": {},
     "output_type": "execute_result"
    }
   ],
   "source": [
    "# Count the number of `9`s in the matrix now!\n",
    "(pd.DataFrame(NUMBER_GRID)\n",
    " .style\n",
    " .applymap(lambda x: 'background-color: yellow' if x == 9 else ''))"
   ]
  },
  {
   "cell_type": "code",
   "execution_count": 12,
   "id": "fc6136dd",
   "metadata": {
    "ExecuteTime": {
     "end_time": "2022-04-22T20:09:18.746975Z",
     "start_time": "2022-04-22T20:09:18.743994Z"
    },
    "slideshow": {
     "slide_type": "skip"
    }
   },
   "outputs": [],
   "source": [
    "NUMBER_GRID_LARGE = np.random.randint(1, 9, size=(10, 40))\n",
    "NUMBER_GRID_LARGE[3, 31] = 9"
   ]
  },
  {
   "cell_type": "code",
   "execution_count": 13,
   "id": "a4a356ee",
   "metadata": {
    "ExecuteTime": {
     "end_time": "2022-04-22T20:09:18.821550Z",
     "start_time": "2022-04-22T20:09:18.749148Z"
    },
    "slideshow": {
     "slide_type": "slide"
    }
   },
   "outputs": [
    {
     "data": {
      "text/html": [
       "<style  type=\"text/css\" >\n",
       "#T_1783941e_c278_11ec_906a_acde48001122row3_col31{\n",
       "            background-color:  yellow;\n",
       "        }</style><table id=\"T_1783941e_c278_11ec_906a_acde48001122\" ><thead>    <tr>        <th class=\"blank level0\" ></th>        <th class=\"col_heading level0 col0\" >0</th>        <th class=\"col_heading level0 col1\" >1</th>        <th class=\"col_heading level0 col2\" >2</th>        <th class=\"col_heading level0 col3\" >3</th>        <th class=\"col_heading level0 col4\" >4</th>        <th class=\"col_heading level0 col5\" >5</th>        <th class=\"col_heading level0 col6\" >6</th>        <th class=\"col_heading level0 col7\" >7</th>        <th class=\"col_heading level0 col8\" >8</th>        <th class=\"col_heading level0 col9\" >9</th>        <th class=\"col_heading level0 col10\" >10</th>        <th class=\"col_heading level0 col11\" >11</th>        <th class=\"col_heading level0 col12\" >12</th>        <th class=\"col_heading level0 col13\" >13</th>        <th class=\"col_heading level0 col14\" >14</th>        <th class=\"col_heading level0 col15\" >15</th>        <th class=\"col_heading level0 col16\" >16</th>        <th class=\"col_heading level0 col17\" >17</th>        <th class=\"col_heading level0 col18\" >18</th>        <th class=\"col_heading level0 col19\" >19</th>        <th class=\"col_heading level0 col20\" >20</th>        <th class=\"col_heading level0 col21\" >21</th>        <th class=\"col_heading level0 col22\" >22</th>        <th class=\"col_heading level0 col23\" >23</th>        <th class=\"col_heading level0 col24\" >24</th>        <th class=\"col_heading level0 col25\" >25</th>        <th class=\"col_heading level0 col26\" >26</th>        <th class=\"col_heading level0 col27\" >27</th>        <th class=\"col_heading level0 col28\" >28</th>        <th class=\"col_heading level0 col29\" >29</th>        <th class=\"col_heading level0 col30\" >30</th>        <th class=\"col_heading level0 col31\" >31</th>        <th class=\"col_heading level0 col32\" >32</th>        <th class=\"col_heading level0 col33\" >33</th>        <th class=\"col_heading level0 col34\" >34</th>        <th class=\"col_heading level0 col35\" >35</th>        <th class=\"col_heading level0 col36\" >36</th>        <th class=\"col_heading level0 col37\" >37</th>        <th class=\"col_heading level0 col38\" >38</th>        <th class=\"col_heading level0 col39\" >39</th>    </tr></thead><tbody>\n",
       "                <tr>\n",
       "                        <th id=\"T_1783941e_c278_11ec_906a_acde48001122level0_row0\" class=\"row_heading level0 row0\" >0</th>\n",
       "                        <td id=\"T_1783941e_c278_11ec_906a_acde48001122row0_col0\" class=\"data row0 col0\" >2</td>\n",
       "                        <td id=\"T_1783941e_c278_11ec_906a_acde48001122row0_col1\" class=\"data row0 col1\" >5</td>\n",
       "                        <td id=\"T_1783941e_c278_11ec_906a_acde48001122row0_col2\" class=\"data row0 col2\" >2</td>\n",
       "                        <td id=\"T_1783941e_c278_11ec_906a_acde48001122row0_col3\" class=\"data row0 col3\" >8</td>\n",
       "                        <td id=\"T_1783941e_c278_11ec_906a_acde48001122row0_col4\" class=\"data row0 col4\" >2</td>\n",
       "                        <td id=\"T_1783941e_c278_11ec_906a_acde48001122row0_col5\" class=\"data row0 col5\" >8</td>\n",
       "                        <td id=\"T_1783941e_c278_11ec_906a_acde48001122row0_col6\" class=\"data row0 col6\" >5</td>\n",
       "                        <td id=\"T_1783941e_c278_11ec_906a_acde48001122row0_col7\" class=\"data row0 col7\" >2</td>\n",
       "                        <td id=\"T_1783941e_c278_11ec_906a_acde48001122row0_col8\" class=\"data row0 col8\" >7</td>\n",
       "                        <td id=\"T_1783941e_c278_11ec_906a_acde48001122row0_col9\" class=\"data row0 col9\" >7</td>\n",
       "                        <td id=\"T_1783941e_c278_11ec_906a_acde48001122row0_col10\" class=\"data row0 col10\" >7</td>\n",
       "                        <td id=\"T_1783941e_c278_11ec_906a_acde48001122row0_col11\" class=\"data row0 col11\" >7</td>\n",
       "                        <td id=\"T_1783941e_c278_11ec_906a_acde48001122row0_col12\" class=\"data row0 col12\" >8</td>\n",
       "                        <td id=\"T_1783941e_c278_11ec_906a_acde48001122row0_col13\" class=\"data row0 col13\" >6</td>\n",
       "                        <td id=\"T_1783941e_c278_11ec_906a_acde48001122row0_col14\" class=\"data row0 col14\" >3</td>\n",
       "                        <td id=\"T_1783941e_c278_11ec_906a_acde48001122row0_col15\" class=\"data row0 col15\" >5</td>\n",
       "                        <td id=\"T_1783941e_c278_11ec_906a_acde48001122row0_col16\" class=\"data row0 col16\" >4</td>\n",
       "                        <td id=\"T_1783941e_c278_11ec_906a_acde48001122row0_col17\" class=\"data row0 col17\" >2</td>\n",
       "                        <td id=\"T_1783941e_c278_11ec_906a_acde48001122row0_col18\" class=\"data row0 col18\" >6</td>\n",
       "                        <td id=\"T_1783941e_c278_11ec_906a_acde48001122row0_col19\" class=\"data row0 col19\" >3</td>\n",
       "                        <td id=\"T_1783941e_c278_11ec_906a_acde48001122row0_col20\" class=\"data row0 col20\" >4</td>\n",
       "                        <td id=\"T_1783941e_c278_11ec_906a_acde48001122row0_col21\" class=\"data row0 col21\" >3</td>\n",
       "                        <td id=\"T_1783941e_c278_11ec_906a_acde48001122row0_col22\" class=\"data row0 col22\" >1</td>\n",
       "                        <td id=\"T_1783941e_c278_11ec_906a_acde48001122row0_col23\" class=\"data row0 col23\" >1</td>\n",
       "                        <td id=\"T_1783941e_c278_11ec_906a_acde48001122row0_col24\" class=\"data row0 col24\" >8</td>\n",
       "                        <td id=\"T_1783941e_c278_11ec_906a_acde48001122row0_col25\" class=\"data row0 col25\" >5</td>\n",
       "                        <td id=\"T_1783941e_c278_11ec_906a_acde48001122row0_col26\" class=\"data row0 col26\" >4</td>\n",
       "                        <td id=\"T_1783941e_c278_11ec_906a_acde48001122row0_col27\" class=\"data row0 col27\" >7</td>\n",
       "                        <td id=\"T_1783941e_c278_11ec_906a_acde48001122row0_col28\" class=\"data row0 col28\" >7</td>\n",
       "                        <td id=\"T_1783941e_c278_11ec_906a_acde48001122row0_col29\" class=\"data row0 col29\" >2</td>\n",
       "                        <td id=\"T_1783941e_c278_11ec_906a_acde48001122row0_col30\" class=\"data row0 col30\" >7</td>\n",
       "                        <td id=\"T_1783941e_c278_11ec_906a_acde48001122row0_col31\" class=\"data row0 col31\" >4</td>\n",
       "                        <td id=\"T_1783941e_c278_11ec_906a_acde48001122row0_col32\" class=\"data row0 col32\" >8</td>\n",
       "                        <td id=\"T_1783941e_c278_11ec_906a_acde48001122row0_col33\" class=\"data row0 col33\" >8</td>\n",
       "                        <td id=\"T_1783941e_c278_11ec_906a_acde48001122row0_col34\" class=\"data row0 col34\" >5</td>\n",
       "                        <td id=\"T_1783941e_c278_11ec_906a_acde48001122row0_col35\" class=\"data row0 col35\" >5</td>\n",
       "                        <td id=\"T_1783941e_c278_11ec_906a_acde48001122row0_col36\" class=\"data row0 col36\" >8</td>\n",
       "                        <td id=\"T_1783941e_c278_11ec_906a_acde48001122row0_col37\" class=\"data row0 col37\" >5</td>\n",
       "                        <td id=\"T_1783941e_c278_11ec_906a_acde48001122row0_col38\" class=\"data row0 col38\" >4</td>\n",
       "                        <td id=\"T_1783941e_c278_11ec_906a_acde48001122row0_col39\" class=\"data row0 col39\" >8</td>\n",
       "            </tr>\n",
       "            <tr>\n",
       "                        <th id=\"T_1783941e_c278_11ec_906a_acde48001122level0_row1\" class=\"row_heading level0 row1\" >1</th>\n",
       "                        <td id=\"T_1783941e_c278_11ec_906a_acde48001122row1_col0\" class=\"data row1 col0\" >5</td>\n",
       "                        <td id=\"T_1783941e_c278_11ec_906a_acde48001122row1_col1\" class=\"data row1 col1\" >4</td>\n",
       "                        <td id=\"T_1783941e_c278_11ec_906a_acde48001122row1_col2\" class=\"data row1 col2\" >7</td>\n",
       "                        <td id=\"T_1783941e_c278_11ec_906a_acde48001122row1_col3\" class=\"data row1 col3\" >3</td>\n",
       "                        <td id=\"T_1783941e_c278_11ec_906a_acde48001122row1_col4\" class=\"data row1 col4\" >6</td>\n",
       "                        <td id=\"T_1783941e_c278_11ec_906a_acde48001122row1_col5\" class=\"data row1 col5\" >2</td>\n",
       "                        <td id=\"T_1783941e_c278_11ec_906a_acde48001122row1_col6\" class=\"data row1 col6\" >6</td>\n",
       "                        <td id=\"T_1783941e_c278_11ec_906a_acde48001122row1_col7\" class=\"data row1 col7\" >6</td>\n",
       "                        <td id=\"T_1783941e_c278_11ec_906a_acde48001122row1_col8\" class=\"data row1 col8\" >3</td>\n",
       "                        <td id=\"T_1783941e_c278_11ec_906a_acde48001122row1_col9\" class=\"data row1 col9\" >6</td>\n",
       "                        <td id=\"T_1783941e_c278_11ec_906a_acde48001122row1_col10\" class=\"data row1 col10\" >8</td>\n",
       "                        <td id=\"T_1783941e_c278_11ec_906a_acde48001122row1_col11\" class=\"data row1 col11\" >2</td>\n",
       "                        <td id=\"T_1783941e_c278_11ec_906a_acde48001122row1_col12\" class=\"data row1 col12\" >2</td>\n",
       "                        <td id=\"T_1783941e_c278_11ec_906a_acde48001122row1_col13\" class=\"data row1 col13\" >5</td>\n",
       "                        <td id=\"T_1783941e_c278_11ec_906a_acde48001122row1_col14\" class=\"data row1 col14\" >2</td>\n",
       "                        <td id=\"T_1783941e_c278_11ec_906a_acde48001122row1_col15\" class=\"data row1 col15\" >3</td>\n",
       "                        <td id=\"T_1783941e_c278_11ec_906a_acde48001122row1_col16\" class=\"data row1 col16\" >7</td>\n",
       "                        <td id=\"T_1783941e_c278_11ec_906a_acde48001122row1_col17\" class=\"data row1 col17\" >7</td>\n",
       "                        <td id=\"T_1783941e_c278_11ec_906a_acde48001122row1_col18\" class=\"data row1 col18\" >8</td>\n",
       "                        <td id=\"T_1783941e_c278_11ec_906a_acde48001122row1_col19\" class=\"data row1 col19\" >5</td>\n",
       "                        <td id=\"T_1783941e_c278_11ec_906a_acde48001122row1_col20\" class=\"data row1 col20\" >4</td>\n",
       "                        <td id=\"T_1783941e_c278_11ec_906a_acde48001122row1_col21\" class=\"data row1 col21\" >6</td>\n",
       "                        <td id=\"T_1783941e_c278_11ec_906a_acde48001122row1_col22\" class=\"data row1 col22\" >5</td>\n",
       "                        <td id=\"T_1783941e_c278_11ec_906a_acde48001122row1_col23\" class=\"data row1 col23\" >3</td>\n",
       "                        <td id=\"T_1783941e_c278_11ec_906a_acde48001122row1_col24\" class=\"data row1 col24\" >1</td>\n",
       "                        <td id=\"T_1783941e_c278_11ec_906a_acde48001122row1_col25\" class=\"data row1 col25\" >1</td>\n",
       "                        <td id=\"T_1783941e_c278_11ec_906a_acde48001122row1_col26\" class=\"data row1 col26\" >5</td>\n",
       "                        <td id=\"T_1783941e_c278_11ec_906a_acde48001122row1_col27\" class=\"data row1 col27\" >6</td>\n",
       "                        <td id=\"T_1783941e_c278_11ec_906a_acde48001122row1_col28\" class=\"data row1 col28\" >2</td>\n",
       "                        <td id=\"T_1783941e_c278_11ec_906a_acde48001122row1_col29\" class=\"data row1 col29\" >6</td>\n",
       "                        <td id=\"T_1783941e_c278_11ec_906a_acde48001122row1_col30\" class=\"data row1 col30\" >2</td>\n",
       "                        <td id=\"T_1783941e_c278_11ec_906a_acde48001122row1_col31\" class=\"data row1 col31\" >4</td>\n",
       "                        <td id=\"T_1783941e_c278_11ec_906a_acde48001122row1_col32\" class=\"data row1 col32\" >1</td>\n",
       "                        <td id=\"T_1783941e_c278_11ec_906a_acde48001122row1_col33\" class=\"data row1 col33\" >2</td>\n",
       "                        <td id=\"T_1783941e_c278_11ec_906a_acde48001122row1_col34\" class=\"data row1 col34\" >3</td>\n",
       "                        <td id=\"T_1783941e_c278_11ec_906a_acde48001122row1_col35\" class=\"data row1 col35\" >6</td>\n",
       "                        <td id=\"T_1783941e_c278_11ec_906a_acde48001122row1_col36\" class=\"data row1 col36\" >3</td>\n",
       "                        <td id=\"T_1783941e_c278_11ec_906a_acde48001122row1_col37\" class=\"data row1 col37\" >7</td>\n",
       "                        <td id=\"T_1783941e_c278_11ec_906a_acde48001122row1_col38\" class=\"data row1 col38\" >7</td>\n",
       "                        <td id=\"T_1783941e_c278_11ec_906a_acde48001122row1_col39\" class=\"data row1 col39\" >4</td>\n",
       "            </tr>\n",
       "            <tr>\n",
       "                        <th id=\"T_1783941e_c278_11ec_906a_acde48001122level0_row2\" class=\"row_heading level0 row2\" >2</th>\n",
       "                        <td id=\"T_1783941e_c278_11ec_906a_acde48001122row2_col0\" class=\"data row2 col0\" >8</td>\n",
       "                        <td id=\"T_1783941e_c278_11ec_906a_acde48001122row2_col1\" class=\"data row2 col1\" >6</td>\n",
       "                        <td id=\"T_1783941e_c278_11ec_906a_acde48001122row2_col2\" class=\"data row2 col2\" >3</td>\n",
       "                        <td id=\"T_1783941e_c278_11ec_906a_acde48001122row2_col3\" class=\"data row2 col3\" >5</td>\n",
       "                        <td id=\"T_1783941e_c278_11ec_906a_acde48001122row2_col4\" class=\"data row2 col4\" >5</td>\n",
       "                        <td id=\"T_1783941e_c278_11ec_906a_acde48001122row2_col5\" class=\"data row2 col5\" >2</td>\n",
       "                        <td id=\"T_1783941e_c278_11ec_906a_acde48001122row2_col6\" class=\"data row2 col6\" >4</td>\n",
       "                        <td id=\"T_1783941e_c278_11ec_906a_acde48001122row2_col7\" class=\"data row2 col7\" >6</td>\n",
       "                        <td id=\"T_1783941e_c278_11ec_906a_acde48001122row2_col8\" class=\"data row2 col8\" >7</td>\n",
       "                        <td id=\"T_1783941e_c278_11ec_906a_acde48001122row2_col9\" class=\"data row2 col9\" >3</td>\n",
       "                        <td id=\"T_1783941e_c278_11ec_906a_acde48001122row2_col10\" class=\"data row2 col10\" >2</td>\n",
       "                        <td id=\"T_1783941e_c278_11ec_906a_acde48001122row2_col11\" class=\"data row2 col11\" >3</td>\n",
       "                        <td id=\"T_1783941e_c278_11ec_906a_acde48001122row2_col12\" class=\"data row2 col12\" >4</td>\n",
       "                        <td id=\"T_1783941e_c278_11ec_906a_acde48001122row2_col13\" class=\"data row2 col13\" >8</td>\n",
       "                        <td id=\"T_1783941e_c278_11ec_906a_acde48001122row2_col14\" class=\"data row2 col14\" >3</td>\n",
       "                        <td id=\"T_1783941e_c278_11ec_906a_acde48001122row2_col15\" class=\"data row2 col15\" >2</td>\n",
       "                        <td id=\"T_1783941e_c278_11ec_906a_acde48001122row2_col16\" class=\"data row2 col16\" >6</td>\n",
       "                        <td id=\"T_1783941e_c278_11ec_906a_acde48001122row2_col17\" class=\"data row2 col17\" >4</td>\n",
       "                        <td id=\"T_1783941e_c278_11ec_906a_acde48001122row2_col18\" class=\"data row2 col18\" >4</td>\n",
       "                        <td id=\"T_1783941e_c278_11ec_906a_acde48001122row2_col19\" class=\"data row2 col19\" >6</td>\n",
       "                        <td id=\"T_1783941e_c278_11ec_906a_acde48001122row2_col20\" class=\"data row2 col20\" >8</td>\n",
       "                        <td id=\"T_1783941e_c278_11ec_906a_acde48001122row2_col21\" class=\"data row2 col21\" >1</td>\n",
       "                        <td id=\"T_1783941e_c278_11ec_906a_acde48001122row2_col22\" class=\"data row2 col22\" >3</td>\n",
       "                        <td id=\"T_1783941e_c278_11ec_906a_acde48001122row2_col23\" class=\"data row2 col23\" >4</td>\n",
       "                        <td id=\"T_1783941e_c278_11ec_906a_acde48001122row2_col24\" class=\"data row2 col24\" >1</td>\n",
       "                        <td id=\"T_1783941e_c278_11ec_906a_acde48001122row2_col25\" class=\"data row2 col25\" >1</td>\n",
       "                        <td id=\"T_1783941e_c278_11ec_906a_acde48001122row2_col26\" class=\"data row2 col26\" >8</td>\n",
       "                        <td id=\"T_1783941e_c278_11ec_906a_acde48001122row2_col27\" class=\"data row2 col27\" >1</td>\n",
       "                        <td id=\"T_1783941e_c278_11ec_906a_acde48001122row2_col28\" class=\"data row2 col28\" >4</td>\n",
       "                        <td id=\"T_1783941e_c278_11ec_906a_acde48001122row2_col29\" class=\"data row2 col29\" >1</td>\n",
       "                        <td id=\"T_1783941e_c278_11ec_906a_acde48001122row2_col30\" class=\"data row2 col30\" >2</td>\n",
       "                        <td id=\"T_1783941e_c278_11ec_906a_acde48001122row2_col31\" class=\"data row2 col31\" >4</td>\n",
       "                        <td id=\"T_1783941e_c278_11ec_906a_acde48001122row2_col32\" class=\"data row2 col32\" >3</td>\n",
       "                        <td id=\"T_1783941e_c278_11ec_906a_acde48001122row2_col33\" class=\"data row2 col33\" >3</td>\n",
       "                        <td id=\"T_1783941e_c278_11ec_906a_acde48001122row2_col34\" class=\"data row2 col34\" >4</td>\n",
       "                        <td id=\"T_1783941e_c278_11ec_906a_acde48001122row2_col35\" class=\"data row2 col35\" >4</td>\n",
       "                        <td id=\"T_1783941e_c278_11ec_906a_acde48001122row2_col36\" class=\"data row2 col36\" >5</td>\n",
       "                        <td id=\"T_1783941e_c278_11ec_906a_acde48001122row2_col37\" class=\"data row2 col37\" >1</td>\n",
       "                        <td id=\"T_1783941e_c278_11ec_906a_acde48001122row2_col38\" class=\"data row2 col38\" >4</td>\n",
       "                        <td id=\"T_1783941e_c278_11ec_906a_acde48001122row2_col39\" class=\"data row2 col39\" >2</td>\n",
       "            </tr>\n",
       "            <tr>\n",
       "                        <th id=\"T_1783941e_c278_11ec_906a_acde48001122level0_row3\" class=\"row_heading level0 row3\" >3</th>\n",
       "                        <td id=\"T_1783941e_c278_11ec_906a_acde48001122row3_col0\" class=\"data row3 col0\" >6</td>\n",
       "                        <td id=\"T_1783941e_c278_11ec_906a_acde48001122row3_col1\" class=\"data row3 col1\" >7</td>\n",
       "                        <td id=\"T_1783941e_c278_11ec_906a_acde48001122row3_col2\" class=\"data row3 col2\" >3</td>\n",
       "                        <td id=\"T_1783941e_c278_11ec_906a_acde48001122row3_col3\" class=\"data row3 col3\" >4</td>\n",
       "                        <td id=\"T_1783941e_c278_11ec_906a_acde48001122row3_col4\" class=\"data row3 col4\" >6</td>\n",
       "                        <td id=\"T_1783941e_c278_11ec_906a_acde48001122row3_col5\" class=\"data row3 col5\" >8</td>\n",
       "                        <td id=\"T_1783941e_c278_11ec_906a_acde48001122row3_col6\" class=\"data row3 col6\" >3</td>\n",
       "                        <td id=\"T_1783941e_c278_11ec_906a_acde48001122row3_col7\" class=\"data row3 col7\" >4</td>\n",
       "                        <td id=\"T_1783941e_c278_11ec_906a_acde48001122row3_col8\" class=\"data row3 col8\" >1</td>\n",
       "                        <td id=\"T_1783941e_c278_11ec_906a_acde48001122row3_col9\" class=\"data row3 col9\" >3</td>\n",
       "                        <td id=\"T_1783941e_c278_11ec_906a_acde48001122row3_col10\" class=\"data row3 col10\" >3</td>\n",
       "                        <td id=\"T_1783941e_c278_11ec_906a_acde48001122row3_col11\" class=\"data row3 col11\" >8</td>\n",
       "                        <td id=\"T_1783941e_c278_11ec_906a_acde48001122row3_col12\" class=\"data row3 col12\" >8</td>\n",
       "                        <td id=\"T_1783941e_c278_11ec_906a_acde48001122row3_col13\" class=\"data row3 col13\" >2</td>\n",
       "                        <td id=\"T_1783941e_c278_11ec_906a_acde48001122row3_col14\" class=\"data row3 col14\" >3</td>\n",
       "                        <td id=\"T_1783941e_c278_11ec_906a_acde48001122row3_col15\" class=\"data row3 col15\" >1</td>\n",
       "                        <td id=\"T_1783941e_c278_11ec_906a_acde48001122row3_col16\" class=\"data row3 col16\" >7</td>\n",
       "                        <td id=\"T_1783941e_c278_11ec_906a_acde48001122row3_col17\" class=\"data row3 col17\" >5</td>\n",
       "                        <td id=\"T_1783941e_c278_11ec_906a_acde48001122row3_col18\" class=\"data row3 col18\" >2</td>\n",
       "                        <td id=\"T_1783941e_c278_11ec_906a_acde48001122row3_col19\" class=\"data row3 col19\" >7</td>\n",
       "                        <td id=\"T_1783941e_c278_11ec_906a_acde48001122row3_col20\" class=\"data row3 col20\" >4</td>\n",
       "                        <td id=\"T_1783941e_c278_11ec_906a_acde48001122row3_col21\" class=\"data row3 col21\" >2</td>\n",
       "                        <td id=\"T_1783941e_c278_11ec_906a_acde48001122row3_col22\" class=\"data row3 col22\" >8</td>\n",
       "                        <td id=\"T_1783941e_c278_11ec_906a_acde48001122row3_col23\" class=\"data row3 col23\" >6</td>\n",
       "                        <td id=\"T_1783941e_c278_11ec_906a_acde48001122row3_col24\" class=\"data row3 col24\" >4</td>\n",
       "                        <td id=\"T_1783941e_c278_11ec_906a_acde48001122row3_col25\" class=\"data row3 col25\" >3</td>\n",
       "                        <td id=\"T_1783941e_c278_11ec_906a_acde48001122row3_col26\" class=\"data row3 col26\" >3</td>\n",
       "                        <td id=\"T_1783941e_c278_11ec_906a_acde48001122row3_col27\" class=\"data row3 col27\" >5</td>\n",
       "                        <td id=\"T_1783941e_c278_11ec_906a_acde48001122row3_col28\" class=\"data row3 col28\" >3</td>\n",
       "                        <td id=\"T_1783941e_c278_11ec_906a_acde48001122row3_col29\" class=\"data row3 col29\" >4</td>\n",
       "                        <td id=\"T_1783941e_c278_11ec_906a_acde48001122row3_col30\" class=\"data row3 col30\" >4</td>\n",
       "                        <td id=\"T_1783941e_c278_11ec_906a_acde48001122row3_col31\" class=\"data row3 col31\" >9</td>\n",
       "                        <td id=\"T_1783941e_c278_11ec_906a_acde48001122row3_col32\" class=\"data row3 col32\" >6</td>\n",
       "                        <td id=\"T_1783941e_c278_11ec_906a_acde48001122row3_col33\" class=\"data row3 col33\" >2</td>\n",
       "                        <td id=\"T_1783941e_c278_11ec_906a_acde48001122row3_col34\" class=\"data row3 col34\" >1</td>\n",
       "                        <td id=\"T_1783941e_c278_11ec_906a_acde48001122row3_col35\" class=\"data row3 col35\" >2</td>\n",
       "                        <td id=\"T_1783941e_c278_11ec_906a_acde48001122row3_col36\" class=\"data row3 col36\" >1</td>\n",
       "                        <td id=\"T_1783941e_c278_11ec_906a_acde48001122row3_col37\" class=\"data row3 col37\" >4</td>\n",
       "                        <td id=\"T_1783941e_c278_11ec_906a_acde48001122row3_col38\" class=\"data row3 col38\" >1</td>\n",
       "                        <td id=\"T_1783941e_c278_11ec_906a_acde48001122row3_col39\" class=\"data row3 col39\" >2</td>\n",
       "            </tr>\n",
       "            <tr>\n",
       "                        <th id=\"T_1783941e_c278_11ec_906a_acde48001122level0_row4\" class=\"row_heading level0 row4\" >4</th>\n",
       "                        <td id=\"T_1783941e_c278_11ec_906a_acde48001122row4_col0\" class=\"data row4 col0\" >2</td>\n",
       "                        <td id=\"T_1783941e_c278_11ec_906a_acde48001122row4_col1\" class=\"data row4 col1\" >7</td>\n",
       "                        <td id=\"T_1783941e_c278_11ec_906a_acde48001122row4_col2\" class=\"data row4 col2\" >6</td>\n",
       "                        <td id=\"T_1783941e_c278_11ec_906a_acde48001122row4_col3\" class=\"data row4 col3\" >2</td>\n",
       "                        <td id=\"T_1783941e_c278_11ec_906a_acde48001122row4_col4\" class=\"data row4 col4\" >4</td>\n",
       "                        <td id=\"T_1783941e_c278_11ec_906a_acde48001122row4_col5\" class=\"data row4 col5\" >5</td>\n",
       "                        <td id=\"T_1783941e_c278_11ec_906a_acde48001122row4_col6\" class=\"data row4 col6\" >6</td>\n",
       "                        <td id=\"T_1783941e_c278_11ec_906a_acde48001122row4_col7\" class=\"data row4 col7\" >8</td>\n",
       "                        <td id=\"T_1783941e_c278_11ec_906a_acde48001122row4_col8\" class=\"data row4 col8\" >3</td>\n",
       "                        <td id=\"T_1783941e_c278_11ec_906a_acde48001122row4_col9\" class=\"data row4 col9\" >6</td>\n",
       "                        <td id=\"T_1783941e_c278_11ec_906a_acde48001122row4_col10\" class=\"data row4 col10\" >8</td>\n",
       "                        <td id=\"T_1783941e_c278_11ec_906a_acde48001122row4_col11\" class=\"data row4 col11\" >6</td>\n",
       "                        <td id=\"T_1783941e_c278_11ec_906a_acde48001122row4_col12\" class=\"data row4 col12\" >1</td>\n",
       "                        <td id=\"T_1783941e_c278_11ec_906a_acde48001122row4_col13\" class=\"data row4 col13\" >4</td>\n",
       "                        <td id=\"T_1783941e_c278_11ec_906a_acde48001122row4_col14\" class=\"data row4 col14\" >7</td>\n",
       "                        <td id=\"T_1783941e_c278_11ec_906a_acde48001122row4_col15\" class=\"data row4 col15\" >3</td>\n",
       "                        <td id=\"T_1783941e_c278_11ec_906a_acde48001122row4_col16\" class=\"data row4 col16\" >7</td>\n",
       "                        <td id=\"T_1783941e_c278_11ec_906a_acde48001122row4_col17\" class=\"data row4 col17\" >7</td>\n",
       "                        <td id=\"T_1783941e_c278_11ec_906a_acde48001122row4_col18\" class=\"data row4 col18\" >6</td>\n",
       "                        <td id=\"T_1783941e_c278_11ec_906a_acde48001122row4_col19\" class=\"data row4 col19\" >5</td>\n",
       "                        <td id=\"T_1783941e_c278_11ec_906a_acde48001122row4_col20\" class=\"data row4 col20\" >4</td>\n",
       "                        <td id=\"T_1783941e_c278_11ec_906a_acde48001122row4_col21\" class=\"data row4 col21\" >5</td>\n",
       "                        <td id=\"T_1783941e_c278_11ec_906a_acde48001122row4_col22\" class=\"data row4 col22\" >5</td>\n",
       "                        <td id=\"T_1783941e_c278_11ec_906a_acde48001122row4_col23\" class=\"data row4 col23\" >2</td>\n",
       "                        <td id=\"T_1783941e_c278_11ec_906a_acde48001122row4_col24\" class=\"data row4 col24\" >7</td>\n",
       "                        <td id=\"T_1783941e_c278_11ec_906a_acde48001122row4_col25\" class=\"data row4 col25\" >3</td>\n",
       "                        <td id=\"T_1783941e_c278_11ec_906a_acde48001122row4_col26\" class=\"data row4 col26\" >2</td>\n",
       "                        <td id=\"T_1783941e_c278_11ec_906a_acde48001122row4_col27\" class=\"data row4 col27\" >8</td>\n",
       "                        <td id=\"T_1783941e_c278_11ec_906a_acde48001122row4_col28\" class=\"data row4 col28\" >3</td>\n",
       "                        <td id=\"T_1783941e_c278_11ec_906a_acde48001122row4_col29\" class=\"data row4 col29\" >5</td>\n",
       "                        <td id=\"T_1783941e_c278_11ec_906a_acde48001122row4_col30\" class=\"data row4 col30\" >3</td>\n",
       "                        <td id=\"T_1783941e_c278_11ec_906a_acde48001122row4_col31\" class=\"data row4 col31\" >8</td>\n",
       "                        <td id=\"T_1783941e_c278_11ec_906a_acde48001122row4_col32\" class=\"data row4 col32\" >5</td>\n",
       "                        <td id=\"T_1783941e_c278_11ec_906a_acde48001122row4_col33\" class=\"data row4 col33\" >2</td>\n",
       "                        <td id=\"T_1783941e_c278_11ec_906a_acde48001122row4_col34\" class=\"data row4 col34\" >1</td>\n",
       "                        <td id=\"T_1783941e_c278_11ec_906a_acde48001122row4_col35\" class=\"data row4 col35\" >4</td>\n",
       "                        <td id=\"T_1783941e_c278_11ec_906a_acde48001122row4_col36\" class=\"data row4 col36\" >3</td>\n",
       "                        <td id=\"T_1783941e_c278_11ec_906a_acde48001122row4_col37\" class=\"data row4 col37\" >8</td>\n",
       "                        <td id=\"T_1783941e_c278_11ec_906a_acde48001122row4_col38\" class=\"data row4 col38\" >6</td>\n",
       "                        <td id=\"T_1783941e_c278_11ec_906a_acde48001122row4_col39\" class=\"data row4 col39\" >5</td>\n",
       "            </tr>\n",
       "            <tr>\n",
       "                        <th id=\"T_1783941e_c278_11ec_906a_acde48001122level0_row5\" class=\"row_heading level0 row5\" >5</th>\n",
       "                        <td id=\"T_1783941e_c278_11ec_906a_acde48001122row5_col0\" class=\"data row5 col0\" >5</td>\n",
       "                        <td id=\"T_1783941e_c278_11ec_906a_acde48001122row5_col1\" class=\"data row5 col1\" >8</td>\n",
       "                        <td id=\"T_1783941e_c278_11ec_906a_acde48001122row5_col2\" class=\"data row5 col2\" >5</td>\n",
       "                        <td id=\"T_1783941e_c278_11ec_906a_acde48001122row5_col3\" class=\"data row5 col3\" >7</td>\n",
       "                        <td id=\"T_1783941e_c278_11ec_906a_acde48001122row5_col4\" class=\"data row5 col4\" >1</td>\n",
       "                        <td id=\"T_1783941e_c278_11ec_906a_acde48001122row5_col5\" class=\"data row5 col5\" >8</td>\n",
       "                        <td id=\"T_1783941e_c278_11ec_906a_acde48001122row5_col6\" class=\"data row5 col6\" >2</td>\n",
       "                        <td id=\"T_1783941e_c278_11ec_906a_acde48001122row5_col7\" class=\"data row5 col7\" >8</td>\n",
       "                        <td id=\"T_1783941e_c278_11ec_906a_acde48001122row5_col8\" class=\"data row5 col8\" >3</td>\n",
       "                        <td id=\"T_1783941e_c278_11ec_906a_acde48001122row5_col9\" class=\"data row5 col9\" >8</td>\n",
       "                        <td id=\"T_1783941e_c278_11ec_906a_acde48001122row5_col10\" class=\"data row5 col10\" >6</td>\n",
       "                        <td id=\"T_1783941e_c278_11ec_906a_acde48001122row5_col11\" class=\"data row5 col11\" >7</td>\n",
       "                        <td id=\"T_1783941e_c278_11ec_906a_acde48001122row5_col12\" class=\"data row5 col12\" >5</td>\n",
       "                        <td id=\"T_1783941e_c278_11ec_906a_acde48001122row5_col13\" class=\"data row5 col13\" >1</td>\n",
       "                        <td id=\"T_1783941e_c278_11ec_906a_acde48001122row5_col14\" class=\"data row5 col14\" >6</td>\n",
       "                        <td id=\"T_1783941e_c278_11ec_906a_acde48001122row5_col15\" class=\"data row5 col15\" >4</td>\n",
       "                        <td id=\"T_1783941e_c278_11ec_906a_acde48001122row5_col16\" class=\"data row5 col16\" >3</td>\n",
       "                        <td id=\"T_1783941e_c278_11ec_906a_acde48001122row5_col17\" class=\"data row5 col17\" >4</td>\n",
       "                        <td id=\"T_1783941e_c278_11ec_906a_acde48001122row5_col18\" class=\"data row5 col18\" >1</td>\n",
       "                        <td id=\"T_1783941e_c278_11ec_906a_acde48001122row5_col19\" class=\"data row5 col19\" >6</td>\n",
       "                        <td id=\"T_1783941e_c278_11ec_906a_acde48001122row5_col20\" class=\"data row5 col20\" >5</td>\n",
       "                        <td id=\"T_1783941e_c278_11ec_906a_acde48001122row5_col21\" class=\"data row5 col21\" >8</td>\n",
       "                        <td id=\"T_1783941e_c278_11ec_906a_acde48001122row5_col22\" class=\"data row5 col22\" >2</td>\n",
       "                        <td id=\"T_1783941e_c278_11ec_906a_acde48001122row5_col23\" class=\"data row5 col23\" >6</td>\n",
       "                        <td id=\"T_1783941e_c278_11ec_906a_acde48001122row5_col24\" class=\"data row5 col24\" >6</td>\n",
       "                        <td id=\"T_1783941e_c278_11ec_906a_acde48001122row5_col25\" class=\"data row5 col25\" >7</td>\n",
       "                        <td id=\"T_1783941e_c278_11ec_906a_acde48001122row5_col26\" class=\"data row5 col26\" >6</td>\n",
       "                        <td id=\"T_1783941e_c278_11ec_906a_acde48001122row5_col27\" class=\"data row5 col27\" >8</td>\n",
       "                        <td id=\"T_1783941e_c278_11ec_906a_acde48001122row5_col28\" class=\"data row5 col28\" >5</td>\n",
       "                        <td id=\"T_1783941e_c278_11ec_906a_acde48001122row5_col29\" class=\"data row5 col29\" >6</td>\n",
       "                        <td id=\"T_1783941e_c278_11ec_906a_acde48001122row5_col30\" class=\"data row5 col30\" >8</td>\n",
       "                        <td id=\"T_1783941e_c278_11ec_906a_acde48001122row5_col31\" class=\"data row5 col31\" >7</td>\n",
       "                        <td id=\"T_1783941e_c278_11ec_906a_acde48001122row5_col32\" class=\"data row5 col32\" >1</td>\n",
       "                        <td id=\"T_1783941e_c278_11ec_906a_acde48001122row5_col33\" class=\"data row5 col33\" >1</td>\n",
       "                        <td id=\"T_1783941e_c278_11ec_906a_acde48001122row5_col34\" class=\"data row5 col34\" >5</td>\n",
       "                        <td id=\"T_1783941e_c278_11ec_906a_acde48001122row5_col35\" class=\"data row5 col35\" >5</td>\n",
       "                        <td id=\"T_1783941e_c278_11ec_906a_acde48001122row5_col36\" class=\"data row5 col36\" >6</td>\n",
       "                        <td id=\"T_1783941e_c278_11ec_906a_acde48001122row5_col37\" class=\"data row5 col37\" >1</td>\n",
       "                        <td id=\"T_1783941e_c278_11ec_906a_acde48001122row5_col38\" class=\"data row5 col38\" >4</td>\n",
       "                        <td id=\"T_1783941e_c278_11ec_906a_acde48001122row5_col39\" class=\"data row5 col39\" >4</td>\n",
       "            </tr>\n",
       "            <tr>\n",
       "                        <th id=\"T_1783941e_c278_11ec_906a_acde48001122level0_row6\" class=\"row_heading level0 row6\" >6</th>\n",
       "                        <td id=\"T_1783941e_c278_11ec_906a_acde48001122row6_col0\" class=\"data row6 col0\" >5</td>\n",
       "                        <td id=\"T_1783941e_c278_11ec_906a_acde48001122row6_col1\" class=\"data row6 col1\" >8</td>\n",
       "                        <td id=\"T_1783941e_c278_11ec_906a_acde48001122row6_col2\" class=\"data row6 col2\" >3</td>\n",
       "                        <td id=\"T_1783941e_c278_11ec_906a_acde48001122row6_col3\" class=\"data row6 col3\" >3</td>\n",
       "                        <td id=\"T_1783941e_c278_11ec_906a_acde48001122row6_col4\" class=\"data row6 col4\" >5</td>\n",
       "                        <td id=\"T_1783941e_c278_11ec_906a_acde48001122row6_col5\" class=\"data row6 col5\" >1</td>\n",
       "                        <td id=\"T_1783941e_c278_11ec_906a_acde48001122row6_col6\" class=\"data row6 col6\" >3</td>\n",
       "                        <td id=\"T_1783941e_c278_11ec_906a_acde48001122row6_col7\" class=\"data row6 col7\" >2</td>\n",
       "                        <td id=\"T_1783941e_c278_11ec_906a_acde48001122row6_col8\" class=\"data row6 col8\" >2</td>\n",
       "                        <td id=\"T_1783941e_c278_11ec_906a_acde48001122row6_col9\" class=\"data row6 col9\" >2</td>\n",
       "                        <td id=\"T_1783941e_c278_11ec_906a_acde48001122row6_col10\" class=\"data row6 col10\" >6</td>\n",
       "                        <td id=\"T_1783941e_c278_11ec_906a_acde48001122row6_col11\" class=\"data row6 col11\" >8</td>\n",
       "                        <td id=\"T_1783941e_c278_11ec_906a_acde48001122row6_col12\" class=\"data row6 col12\" >6</td>\n",
       "                        <td id=\"T_1783941e_c278_11ec_906a_acde48001122row6_col13\" class=\"data row6 col13\" >4</td>\n",
       "                        <td id=\"T_1783941e_c278_11ec_906a_acde48001122row6_col14\" class=\"data row6 col14\" >5</td>\n",
       "                        <td id=\"T_1783941e_c278_11ec_906a_acde48001122row6_col15\" class=\"data row6 col15\" >7</td>\n",
       "                        <td id=\"T_1783941e_c278_11ec_906a_acde48001122row6_col16\" class=\"data row6 col16\" >1</td>\n",
       "                        <td id=\"T_1783941e_c278_11ec_906a_acde48001122row6_col17\" class=\"data row6 col17\" >4</td>\n",
       "                        <td id=\"T_1783941e_c278_11ec_906a_acde48001122row6_col18\" class=\"data row6 col18\" >4</td>\n",
       "                        <td id=\"T_1783941e_c278_11ec_906a_acde48001122row6_col19\" class=\"data row6 col19\" >3</td>\n",
       "                        <td id=\"T_1783941e_c278_11ec_906a_acde48001122row6_col20\" class=\"data row6 col20\" >1</td>\n",
       "                        <td id=\"T_1783941e_c278_11ec_906a_acde48001122row6_col21\" class=\"data row6 col21\" >1</td>\n",
       "                        <td id=\"T_1783941e_c278_11ec_906a_acde48001122row6_col22\" class=\"data row6 col22\" >7</td>\n",
       "                        <td id=\"T_1783941e_c278_11ec_906a_acde48001122row6_col23\" class=\"data row6 col23\" >1</td>\n",
       "                        <td id=\"T_1783941e_c278_11ec_906a_acde48001122row6_col24\" class=\"data row6 col24\" >5</td>\n",
       "                        <td id=\"T_1783941e_c278_11ec_906a_acde48001122row6_col25\" class=\"data row6 col25\" >3</td>\n",
       "                        <td id=\"T_1783941e_c278_11ec_906a_acde48001122row6_col26\" class=\"data row6 col26\" >8</td>\n",
       "                        <td id=\"T_1783941e_c278_11ec_906a_acde48001122row6_col27\" class=\"data row6 col27\" >8</td>\n",
       "                        <td id=\"T_1783941e_c278_11ec_906a_acde48001122row6_col28\" class=\"data row6 col28\" >5</td>\n",
       "                        <td id=\"T_1783941e_c278_11ec_906a_acde48001122row6_col29\" class=\"data row6 col29\" >4</td>\n",
       "                        <td id=\"T_1783941e_c278_11ec_906a_acde48001122row6_col30\" class=\"data row6 col30\" >7</td>\n",
       "                        <td id=\"T_1783941e_c278_11ec_906a_acde48001122row6_col31\" class=\"data row6 col31\" >7</td>\n",
       "                        <td id=\"T_1783941e_c278_11ec_906a_acde48001122row6_col32\" class=\"data row6 col32\" >8</td>\n",
       "                        <td id=\"T_1783941e_c278_11ec_906a_acde48001122row6_col33\" class=\"data row6 col33\" >1</td>\n",
       "                        <td id=\"T_1783941e_c278_11ec_906a_acde48001122row6_col34\" class=\"data row6 col34\" >4</td>\n",
       "                        <td id=\"T_1783941e_c278_11ec_906a_acde48001122row6_col35\" class=\"data row6 col35\" >3</td>\n",
       "                        <td id=\"T_1783941e_c278_11ec_906a_acde48001122row6_col36\" class=\"data row6 col36\" >2</td>\n",
       "                        <td id=\"T_1783941e_c278_11ec_906a_acde48001122row6_col37\" class=\"data row6 col37\" >2</td>\n",
       "                        <td id=\"T_1783941e_c278_11ec_906a_acde48001122row6_col38\" class=\"data row6 col38\" >2</td>\n",
       "                        <td id=\"T_1783941e_c278_11ec_906a_acde48001122row6_col39\" class=\"data row6 col39\" >7</td>\n",
       "            </tr>\n",
       "            <tr>\n",
       "                        <th id=\"T_1783941e_c278_11ec_906a_acde48001122level0_row7\" class=\"row_heading level0 row7\" >7</th>\n",
       "                        <td id=\"T_1783941e_c278_11ec_906a_acde48001122row7_col0\" class=\"data row7 col0\" >2</td>\n",
       "                        <td id=\"T_1783941e_c278_11ec_906a_acde48001122row7_col1\" class=\"data row7 col1\" >2</td>\n",
       "                        <td id=\"T_1783941e_c278_11ec_906a_acde48001122row7_col2\" class=\"data row7 col2\" >6</td>\n",
       "                        <td id=\"T_1783941e_c278_11ec_906a_acde48001122row7_col3\" class=\"data row7 col3\" >6</td>\n",
       "                        <td id=\"T_1783941e_c278_11ec_906a_acde48001122row7_col4\" class=\"data row7 col4\" >5</td>\n",
       "                        <td id=\"T_1783941e_c278_11ec_906a_acde48001122row7_col5\" class=\"data row7 col5\" >6</td>\n",
       "                        <td id=\"T_1783941e_c278_11ec_906a_acde48001122row7_col6\" class=\"data row7 col6\" >6</td>\n",
       "                        <td id=\"T_1783941e_c278_11ec_906a_acde48001122row7_col7\" class=\"data row7 col7\" >3</td>\n",
       "                        <td id=\"T_1783941e_c278_11ec_906a_acde48001122row7_col8\" class=\"data row7 col8\" >5</td>\n",
       "                        <td id=\"T_1783941e_c278_11ec_906a_acde48001122row7_col9\" class=\"data row7 col9\" >2</td>\n",
       "                        <td id=\"T_1783941e_c278_11ec_906a_acde48001122row7_col10\" class=\"data row7 col10\" >4</td>\n",
       "                        <td id=\"T_1783941e_c278_11ec_906a_acde48001122row7_col11\" class=\"data row7 col11\" >6</td>\n",
       "                        <td id=\"T_1783941e_c278_11ec_906a_acde48001122row7_col12\" class=\"data row7 col12\" >3</td>\n",
       "                        <td id=\"T_1783941e_c278_11ec_906a_acde48001122row7_col13\" class=\"data row7 col13\" >1</td>\n",
       "                        <td id=\"T_1783941e_c278_11ec_906a_acde48001122row7_col14\" class=\"data row7 col14\" >6</td>\n",
       "                        <td id=\"T_1783941e_c278_11ec_906a_acde48001122row7_col15\" class=\"data row7 col15\" >5</td>\n",
       "                        <td id=\"T_1783941e_c278_11ec_906a_acde48001122row7_col16\" class=\"data row7 col16\" >5</td>\n",
       "                        <td id=\"T_1783941e_c278_11ec_906a_acde48001122row7_col17\" class=\"data row7 col17\" >7</td>\n",
       "                        <td id=\"T_1783941e_c278_11ec_906a_acde48001122row7_col18\" class=\"data row7 col18\" >3</td>\n",
       "                        <td id=\"T_1783941e_c278_11ec_906a_acde48001122row7_col19\" class=\"data row7 col19\" >7</td>\n",
       "                        <td id=\"T_1783941e_c278_11ec_906a_acde48001122row7_col20\" class=\"data row7 col20\" >3</td>\n",
       "                        <td id=\"T_1783941e_c278_11ec_906a_acde48001122row7_col21\" class=\"data row7 col21\" >1</td>\n",
       "                        <td id=\"T_1783941e_c278_11ec_906a_acde48001122row7_col22\" class=\"data row7 col22\" >7</td>\n",
       "                        <td id=\"T_1783941e_c278_11ec_906a_acde48001122row7_col23\" class=\"data row7 col23\" >4</td>\n",
       "                        <td id=\"T_1783941e_c278_11ec_906a_acde48001122row7_col24\" class=\"data row7 col24\" >2</td>\n",
       "                        <td id=\"T_1783941e_c278_11ec_906a_acde48001122row7_col25\" class=\"data row7 col25\" >8</td>\n",
       "                        <td id=\"T_1783941e_c278_11ec_906a_acde48001122row7_col26\" class=\"data row7 col26\" >1</td>\n",
       "                        <td id=\"T_1783941e_c278_11ec_906a_acde48001122row7_col27\" class=\"data row7 col27\" >7</td>\n",
       "                        <td id=\"T_1783941e_c278_11ec_906a_acde48001122row7_col28\" class=\"data row7 col28\" >7</td>\n",
       "                        <td id=\"T_1783941e_c278_11ec_906a_acde48001122row7_col29\" class=\"data row7 col29\" >4</td>\n",
       "                        <td id=\"T_1783941e_c278_11ec_906a_acde48001122row7_col30\" class=\"data row7 col30\" >8</td>\n",
       "                        <td id=\"T_1783941e_c278_11ec_906a_acde48001122row7_col31\" class=\"data row7 col31\" >5</td>\n",
       "                        <td id=\"T_1783941e_c278_11ec_906a_acde48001122row7_col32\" class=\"data row7 col32\" >8</td>\n",
       "                        <td id=\"T_1783941e_c278_11ec_906a_acde48001122row7_col33\" class=\"data row7 col33\" >6</td>\n",
       "                        <td id=\"T_1783941e_c278_11ec_906a_acde48001122row7_col34\" class=\"data row7 col34\" >3</td>\n",
       "                        <td id=\"T_1783941e_c278_11ec_906a_acde48001122row7_col35\" class=\"data row7 col35\" >7</td>\n",
       "                        <td id=\"T_1783941e_c278_11ec_906a_acde48001122row7_col36\" class=\"data row7 col36\" >5</td>\n",
       "                        <td id=\"T_1783941e_c278_11ec_906a_acde48001122row7_col37\" class=\"data row7 col37\" >3</td>\n",
       "                        <td id=\"T_1783941e_c278_11ec_906a_acde48001122row7_col38\" class=\"data row7 col38\" >6</td>\n",
       "                        <td id=\"T_1783941e_c278_11ec_906a_acde48001122row7_col39\" class=\"data row7 col39\" >2</td>\n",
       "            </tr>\n",
       "            <tr>\n",
       "                        <th id=\"T_1783941e_c278_11ec_906a_acde48001122level0_row8\" class=\"row_heading level0 row8\" >8</th>\n",
       "                        <td id=\"T_1783941e_c278_11ec_906a_acde48001122row8_col0\" class=\"data row8 col0\" >8</td>\n",
       "                        <td id=\"T_1783941e_c278_11ec_906a_acde48001122row8_col1\" class=\"data row8 col1\" >8</td>\n",
       "                        <td id=\"T_1783941e_c278_11ec_906a_acde48001122row8_col2\" class=\"data row8 col2\" >2</td>\n",
       "                        <td id=\"T_1783941e_c278_11ec_906a_acde48001122row8_col3\" class=\"data row8 col3\" >7</td>\n",
       "                        <td id=\"T_1783941e_c278_11ec_906a_acde48001122row8_col4\" class=\"data row8 col4\" >8</td>\n",
       "                        <td id=\"T_1783941e_c278_11ec_906a_acde48001122row8_col5\" class=\"data row8 col5\" >8</td>\n",
       "                        <td id=\"T_1783941e_c278_11ec_906a_acde48001122row8_col6\" class=\"data row8 col6\" >8</td>\n",
       "                        <td id=\"T_1783941e_c278_11ec_906a_acde48001122row8_col7\" class=\"data row8 col7\" >8</td>\n",
       "                        <td id=\"T_1783941e_c278_11ec_906a_acde48001122row8_col8\" class=\"data row8 col8\" >1</td>\n",
       "                        <td id=\"T_1783941e_c278_11ec_906a_acde48001122row8_col9\" class=\"data row8 col9\" >4</td>\n",
       "                        <td id=\"T_1783941e_c278_11ec_906a_acde48001122row8_col10\" class=\"data row8 col10\" >7</td>\n",
       "                        <td id=\"T_1783941e_c278_11ec_906a_acde48001122row8_col11\" class=\"data row8 col11\" >4</td>\n",
       "                        <td id=\"T_1783941e_c278_11ec_906a_acde48001122row8_col12\" class=\"data row8 col12\" >7</td>\n",
       "                        <td id=\"T_1783941e_c278_11ec_906a_acde48001122row8_col13\" class=\"data row8 col13\" >4</td>\n",
       "                        <td id=\"T_1783941e_c278_11ec_906a_acde48001122row8_col14\" class=\"data row8 col14\" >4</td>\n",
       "                        <td id=\"T_1783941e_c278_11ec_906a_acde48001122row8_col15\" class=\"data row8 col15\" >1</td>\n",
       "                        <td id=\"T_1783941e_c278_11ec_906a_acde48001122row8_col16\" class=\"data row8 col16\" >4</td>\n",
       "                        <td id=\"T_1783941e_c278_11ec_906a_acde48001122row8_col17\" class=\"data row8 col17\" >2</td>\n",
       "                        <td id=\"T_1783941e_c278_11ec_906a_acde48001122row8_col18\" class=\"data row8 col18\" >3</td>\n",
       "                        <td id=\"T_1783941e_c278_11ec_906a_acde48001122row8_col19\" class=\"data row8 col19\" >8</td>\n",
       "                        <td id=\"T_1783941e_c278_11ec_906a_acde48001122row8_col20\" class=\"data row8 col20\" >2</td>\n",
       "                        <td id=\"T_1783941e_c278_11ec_906a_acde48001122row8_col21\" class=\"data row8 col21\" >4</td>\n",
       "                        <td id=\"T_1783941e_c278_11ec_906a_acde48001122row8_col22\" class=\"data row8 col22\" >7</td>\n",
       "                        <td id=\"T_1783941e_c278_11ec_906a_acde48001122row8_col23\" class=\"data row8 col23\" >2</td>\n",
       "                        <td id=\"T_1783941e_c278_11ec_906a_acde48001122row8_col24\" class=\"data row8 col24\" >3</td>\n",
       "                        <td id=\"T_1783941e_c278_11ec_906a_acde48001122row8_col25\" class=\"data row8 col25\" >4</td>\n",
       "                        <td id=\"T_1783941e_c278_11ec_906a_acde48001122row8_col26\" class=\"data row8 col26\" >8</td>\n",
       "                        <td id=\"T_1783941e_c278_11ec_906a_acde48001122row8_col27\" class=\"data row8 col27\" >3</td>\n",
       "                        <td id=\"T_1783941e_c278_11ec_906a_acde48001122row8_col28\" class=\"data row8 col28\" >7</td>\n",
       "                        <td id=\"T_1783941e_c278_11ec_906a_acde48001122row8_col29\" class=\"data row8 col29\" >1</td>\n",
       "                        <td id=\"T_1783941e_c278_11ec_906a_acde48001122row8_col30\" class=\"data row8 col30\" >8</td>\n",
       "                        <td id=\"T_1783941e_c278_11ec_906a_acde48001122row8_col31\" class=\"data row8 col31\" >6</td>\n",
       "                        <td id=\"T_1783941e_c278_11ec_906a_acde48001122row8_col32\" class=\"data row8 col32\" >8</td>\n",
       "                        <td id=\"T_1783941e_c278_11ec_906a_acde48001122row8_col33\" class=\"data row8 col33\" >5</td>\n",
       "                        <td id=\"T_1783941e_c278_11ec_906a_acde48001122row8_col34\" class=\"data row8 col34\" >4</td>\n",
       "                        <td id=\"T_1783941e_c278_11ec_906a_acde48001122row8_col35\" class=\"data row8 col35\" >1</td>\n",
       "                        <td id=\"T_1783941e_c278_11ec_906a_acde48001122row8_col36\" class=\"data row8 col36\" >8</td>\n",
       "                        <td id=\"T_1783941e_c278_11ec_906a_acde48001122row8_col37\" class=\"data row8 col37\" >1</td>\n",
       "                        <td id=\"T_1783941e_c278_11ec_906a_acde48001122row8_col38\" class=\"data row8 col38\" >4</td>\n",
       "                        <td id=\"T_1783941e_c278_11ec_906a_acde48001122row8_col39\" class=\"data row8 col39\" >5</td>\n",
       "            </tr>\n",
       "            <tr>\n",
       "                        <th id=\"T_1783941e_c278_11ec_906a_acde48001122level0_row9\" class=\"row_heading level0 row9\" >9</th>\n",
       "                        <td id=\"T_1783941e_c278_11ec_906a_acde48001122row9_col0\" class=\"data row9 col0\" >4</td>\n",
       "                        <td id=\"T_1783941e_c278_11ec_906a_acde48001122row9_col1\" class=\"data row9 col1\" >8</td>\n",
       "                        <td id=\"T_1783941e_c278_11ec_906a_acde48001122row9_col2\" class=\"data row9 col2\" >3</td>\n",
       "                        <td id=\"T_1783941e_c278_11ec_906a_acde48001122row9_col3\" class=\"data row9 col3\" >5</td>\n",
       "                        <td id=\"T_1783941e_c278_11ec_906a_acde48001122row9_col4\" class=\"data row9 col4\" >6</td>\n",
       "                        <td id=\"T_1783941e_c278_11ec_906a_acde48001122row9_col5\" class=\"data row9 col5\" >3</td>\n",
       "                        <td id=\"T_1783941e_c278_11ec_906a_acde48001122row9_col6\" class=\"data row9 col6\" >2</td>\n",
       "                        <td id=\"T_1783941e_c278_11ec_906a_acde48001122row9_col7\" class=\"data row9 col7\" >1</td>\n",
       "                        <td id=\"T_1783941e_c278_11ec_906a_acde48001122row9_col8\" class=\"data row9 col8\" >2</td>\n",
       "                        <td id=\"T_1783941e_c278_11ec_906a_acde48001122row9_col9\" class=\"data row9 col9\" >7</td>\n",
       "                        <td id=\"T_1783941e_c278_11ec_906a_acde48001122row9_col10\" class=\"data row9 col10\" >6</td>\n",
       "                        <td id=\"T_1783941e_c278_11ec_906a_acde48001122row9_col11\" class=\"data row9 col11\" >5</td>\n",
       "                        <td id=\"T_1783941e_c278_11ec_906a_acde48001122row9_col12\" class=\"data row9 col12\" >5</td>\n",
       "                        <td id=\"T_1783941e_c278_11ec_906a_acde48001122row9_col13\" class=\"data row9 col13\" >3</td>\n",
       "                        <td id=\"T_1783941e_c278_11ec_906a_acde48001122row9_col14\" class=\"data row9 col14\" >4</td>\n",
       "                        <td id=\"T_1783941e_c278_11ec_906a_acde48001122row9_col15\" class=\"data row9 col15\" >5</td>\n",
       "                        <td id=\"T_1783941e_c278_11ec_906a_acde48001122row9_col16\" class=\"data row9 col16\" >6</td>\n",
       "                        <td id=\"T_1783941e_c278_11ec_906a_acde48001122row9_col17\" class=\"data row9 col17\" >2</td>\n",
       "                        <td id=\"T_1783941e_c278_11ec_906a_acde48001122row9_col18\" class=\"data row9 col18\" >8</td>\n",
       "                        <td id=\"T_1783941e_c278_11ec_906a_acde48001122row9_col19\" class=\"data row9 col19\" >2</td>\n",
       "                        <td id=\"T_1783941e_c278_11ec_906a_acde48001122row9_col20\" class=\"data row9 col20\" >7</td>\n",
       "                        <td id=\"T_1783941e_c278_11ec_906a_acde48001122row9_col21\" class=\"data row9 col21\" >6</td>\n",
       "                        <td id=\"T_1783941e_c278_11ec_906a_acde48001122row9_col22\" class=\"data row9 col22\" >7</td>\n",
       "                        <td id=\"T_1783941e_c278_11ec_906a_acde48001122row9_col23\" class=\"data row9 col23\" >4</td>\n",
       "                        <td id=\"T_1783941e_c278_11ec_906a_acde48001122row9_col24\" class=\"data row9 col24\" >5</td>\n",
       "                        <td id=\"T_1783941e_c278_11ec_906a_acde48001122row9_col25\" class=\"data row9 col25\" >5</td>\n",
       "                        <td id=\"T_1783941e_c278_11ec_906a_acde48001122row9_col26\" class=\"data row9 col26\" >3</td>\n",
       "                        <td id=\"T_1783941e_c278_11ec_906a_acde48001122row9_col27\" class=\"data row9 col27\" >8</td>\n",
       "                        <td id=\"T_1783941e_c278_11ec_906a_acde48001122row9_col28\" class=\"data row9 col28\" >3</td>\n",
       "                        <td id=\"T_1783941e_c278_11ec_906a_acde48001122row9_col29\" class=\"data row9 col29\" >8</td>\n",
       "                        <td id=\"T_1783941e_c278_11ec_906a_acde48001122row9_col30\" class=\"data row9 col30\" >7</td>\n",
       "                        <td id=\"T_1783941e_c278_11ec_906a_acde48001122row9_col31\" class=\"data row9 col31\" >4</td>\n",
       "                        <td id=\"T_1783941e_c278_11ec_906a_acde48001122row9_col32\" class=\"data row9 col32\" >6</td>\n",
       "                        <td id=\"T_1783941e_c278_11ec_906a_acde48001122row9_col33\" class=\"data row9 col33\" >1</td>\n",
       "                        <td id=\"T_1783941e_c278_11ec_906a_acde48001122row9_col34\" class=\"data row9 col34\" >8</td>\n",
       "                        <td id=\"T_1783941e_c278_11ec_906a_acde48001122row9_col35\" class=\"data row9 col35\" >8</td>\n",
       "                        <td id=\"T_1783941e_c278_11ec_906a_acde48001122row9_col36\" class=\"data row9 col36\" >4</td>\n",
       "                        <td id=\"T_1783941e_c278_11ec_906a_acde48001122row9_col37\" class=\"data row9 col37\" >4</td>\n",
       "                        <td id=\"T_1783941e_c278_11ec_906a_acde48001122row9_col38\" class=\"data row9 col38\" >3</td>\n",
       "                        <td id=\"T_1783941e_c278_11ec_906a_acde48001122row9_col39\" class=\"data row9 col39\" >1</td>\n",
       "            </tr>\n",
       "    </tbody></table>"
      ],
      "text/plain": [
       "<pandas.io.formats.style.Styler at 0x7f99a32aea20>"
      ]
     },
     "execution_count": 13,
     "metadata": {},
     "output_type": "execute_result"
    }
   ],
   "source": [
    "# How about now?\n",
    "(pd.DataFrame(NUMBER_GRID_LARGE)\n",
    " .style\n",
    " .applymap(lambda x: 'background-color: yellow' if x == 9 else ''))"
   ]
  },
  {
   "cell_type": "code",
   "execution_count": 14,
   "id": "4bff7bea",
   "metadata": {
    "ExecuteTime": {
     "end_time": "2022-04-22T20:09:18.853396Z",
     "start_time": "2022-04-22T20:09:18.823315Z"
    },
    "slideshow": {
     "slide_type": "skip"
    }
   },
   "outputs": [],
   "source": [
    "def plot_features():\n",
    "    \"\"\"\n",
    "    Demonstrate some pre-attentive attributes, namely:\n",
    "    \n",
    "    - Length\n",
    "    - Width\n",
    "    - Size\n",
    "    - Shape\n",
    "    - Color\n",
    "        - Hue\n",
    "        - Value\n",
    "    - Position\n",
    "    - Marks\n",
    "    \"\"\"\n",
    "    \n",
    "    labels = [\n",
    "        ('Length', 'bar', \n",
    "         dict(x=[1,2,3,4], \n",
    "              height=[2,5,2,2],\n",
    "              width=0.2,\n",
    "              color='lightgrey')),\n",
    "        ('Width', 'bar', \n",
    "         dict(x=[1,2,3,4], \n",
    "              height=[2,2,2,2], \n",
    "              width=[0.2, 0.8, 0.2, 0.2],\n",
    "              color='lightgrey')),\n",
    "        ('Size', 'scatter', \n",
    "         dict(x=[1,1,1,2,2,2,3,3,3], \n",
    "              y=[1,2,3,1,2,3,1,2,3], \n",
    "              s=[200,200,200,200,200,200,200,1200,200],\n",
    "              color='lightgrey')),\n",
    "        ('Shape', 'shape-scatter', \n",
    "         dict(x=[1,1,1,2,2,2,3,3,3], \n",
    "              y=[1,2,3,1,2,3,1,2,3], \n",
    "              s=200,\n",
    "              color='lightgrey')),\n",
    "        ('Color - Hue', 'scatter', \n",
    "         dict(x=[1,1,1,2,2,2,3,3,3], \n",
    "              y=[1,2,3,1,2,3,1,2,3], \n",
    "              s=200, \n",
    "              color=['lightgrey','lightgrey','lightgrey',\n",
    "                     'lightgrey','lightgrey','lightgrey',\n",
    "                     'lightgrey','tab:red','lightgrey'])),\n",
    "        ('Color - Value', 'scatter',\n",
    "         dict(x=[1,1,1,2,2,2,3,3,3], \n",
    "              y=[1,2,3,1,2,3,1,2,3], \n",
    "              s=200, \n",
    "              color=['lightgrey','lightgrey','lightgrey',\n",
    "                     'lightgrey','lightgrey','lightgrey',\n",
    "                     'lightgrey','black','lightgrey'])),\n",
    "        ('Position', 'scatter',  \n",
    "         dict(x=[1,1,1,2,2,2,3,4,3], \n",
    "              y=[1,2,3,1,2,3,1,2,3], \n",
    "              s=200, \n",
    "              color='lightgrey')),\n",
    "        ('Label', 'label-scatter', \n",
    "         dict(x=[1,1,1,2,2,2,3,3,3], \n",
    "              y=[1,2,3,1,2,3,1,2,3], \n",
    "              s=200, \n",
    "              color='lightgrey'))\n",
    "    ]\n",
    "    \n",
    "    # Make plot.\n",
    "    with plt.style.context('seaborn-talk'):\n",
    "        fig, ax_lst = plt.subplots(ncols=4, nrows=2, figsize=(16, 8))\n",
    "        for (label, plot_type, kwargs), ax in zip(labels, \n",
    "                                                  ax_lst.flatten()):\n",
    "            if plot_type == 'bar':\n",
    "                ax.bar(**kwargs)\n",
    "            elif plot_type == 'scatter':\n",
    "                ax.scatter(**kwargs)\n",
    "            elif plot_type == 'label-scatter':\n",
    "                ax.scatter(**kwargs)\n",
    "                ax.annotate(\n",
    "                    'Look!', \n",
    "                    (3, 2), \n",
    "                    xytext=(2.5, 1.5), \n",
    "                    arrowprops=dict(arrowstyle='simple')\n",
    "                    )\n",
    "            elif plot_type == 'shape-scatter':\n",
    "                # No functionality to have different marker types on the same scatter.\n",
    "                for idx, (x, y) in enumerate(zip(kwargs['x'], kwargs['y'])):\n",
    "                    if idx == 4:\n",
    "                        marker = 'x'\n",
    "                    else:\n",
    "                        marker = 'o'\n",
    "                    ax.scatter(\n",
    "                        x, y, \n",
    "                        s=kwargs['s'], \n",
    "                        color=kwargs['color'], \n",
    "                        marker=marker)\n",
    "            ax.set(title=label)\n",
    "            ax.set_xlim(-0.5, 4.5)\n",
    "            ax.set_ylim(0, 4)\n",
    "            ax.spines['right'].set_visible(False)\n",
    "            ax.spines['top'].set_visible(False)\n",
    "            ax.get_xaxis().set_visible(False)\n",
    "            ax.get_yaxis().set_visible(False)\n",
    "        plt.tight_layout()\n",
    "        plt.show()"
   ]
  },
  {
   "cell_type": "code",
   "execution_count": 15,
   "id": "8b868854",
   "metadata": {
    "ExecuteTime": {
     "end_time": "2022-04-22T20:09:19.406360Z",
     "start_time": "2022-04-22T20:09:18.865733Z"
    },
    "slideshow": {
     "slide_type": "slide"
    }
   },
   "outputs": [
    {
     "data": {
      "image/png": "[encoded data removed]",
      "text/plain": [
       "<Figure size 1152x576 with 8 Axes>"
      ]
     },
     "metadata": {
      "needs_background": "light"
     },
     "output_type": "display_data"
    }
   ],
   "source": [
    "# Demonstration of different pre-attentive features.\n",
    "plot_features()"
   ]
  },
  {
   "cell_type": "markdown",
   "id": "75f9de50",
   "metadata": {
    "slideshow": {
     "slide_type": "slide"
    }
   },
   "source": [
    "## A Note on Color\n",
    "\n",
    "- Color is often used recklessly. Many times, people will try to add \"excitement\" to a visualization by using color."
   ]
  },
  {
   "cell_type": "code",
   "execution_count": 16,
   "id": "a433e7e2",
   "metadata": {
    "ExecuteTime": {
     "end_time": "2022-04-22T20:09:19.410619Z",
     "start_time": "2022-04-22T20:09:19.407857Z"
    },
    "slideshow": {
     "slide_type": "skip"
    }
   },
   "outputs": [],
   "source": [
    "def apply_bg_colormap(n):\n",
    "    dct = {\n",
    "        0: 'red',\n",
    "        1: 'orange',\n",
    "        2: 'yellow',\n",
    "        3: 'green',\n",
    "        4: 'blue',\n",
    "        5: 'magenta',\n",
    "        6: 'violet',\n",
    "        7: 'olive',\n",
    "        8: 'firebrick',\n",
    "        9: 'lightcyan'\n",
    "    }\n",
    "    return f'background-color: {dct[n]}'"
   ]
  },
  {
   "cell_type": "code",
   "execution_count": 17,
   "id": "3140ba21",
   "metadata": {
    "ExecuteTime": {
     "end_time": "2022-04-22T20:09:19.432656Z",
     "start_time": "2022-04-22T20:09:19.412211Z"
    },
    "slideshow": {
     "slide_type": "slide"
    }
   },
   "outputs": [
    {
     "data": {
      "text/html": [
       "<style  type=\"text/css\" >\n",
       "#T_17e2c166_c278_11ec_b1b4_acde48001122row0_col0,#T_17e2c166_c278_11ec_b1b4_acde48001122row2_col3,#T_17e2c166_c278_11ec_b1b4_acde48001122row3_col4,#T_17e2c166_c278_11ec_b1b4_acde48001122row4_col8,#T_17e2c166_c278_11ec_b1b4_acde48001122row5_col2,#T_17e2c166_c278_11ec_b1b4_acde48001122row5_col9,#T_17e2c166_c278_11ec_b1b4_acde48001122row6_col3,#T_17e2c166_c278_11ec_b1b4_acde48001122row7_col6,#T_17e2c166_c278_11ec_b1b4_acde48001122row7_col9,#T_17e2c166_c278_11ec_b1b4_acde48001122row9_col8{\n",
       "            background-color:  magenta;\n",
       "        }#T_17e2c166_c278_11ec_b1b4_acde48001122row0_col1,#T_17e2c166_c278_11ec_b1b4_acde48001122row0_col4,#T_17e2c166_c278_11ec_b1b4_acde48001122row1_col1,#T_17e2c166_c278_11ec_b1b4_acde48001122row1_col5,#T_17e2c166_c278_11ec_b1b4_acde48001122row2_col5,#T_17e2c166_c278_11ec_b1b4_acde48001122row2_col9,#T_17e2c166_c278_11ec_b1b4_acde48001122row3_col1,#T_17e2c166_c278_11ec_b1b4_acde48001122row3_col8,#T_17e2c166_c278_11ec_b1b4_acde48001122row4_col4,#T_17e2c166_c278_11ec_b1b4_acde48001122row5_col6,#T_17e2c166_c278_11ec_b1b4_acde48001122row7_col0,#T_17e2c166_c278_11ec_b1b4_acde48001122row7_col3,#T_17e2c166_c278_11ec_b1b4_acde48001122row9_col1{\n",
       "            background-color:  violet;\n",
       "        }#T_17e2c166_c278_11ec_b1b4_acde48001122row0_col2,#T_17e2c166_c278_11ec_b1b4_acde48001122row1_col7,#T_17e2c166_c278_11ec_b1b4_acde48001122row2_col0,#T_17e2c166_c278_11ec_b1b4_acde48001122row5_col8,#T_17e2c166_c278_11ec_b1b4_acde48001122row7_col4,#T_17e2c166_c278_11ec_b1b4_acde48001122row7_col5,#T_17e2c166_c278_11ec_b1b4_acde48001122row8_col1,#T_17e2c166_c278_11ec_b1b4_acde48001122row9_col0,#T_17e2c166_c278_11ec_b1b4_acde48001122row9_col2,#T_17e2c166_c278_11ec_b1b4_acde48001122row9_col4{\n",
       "            background-color:  orange;\n",
       "        }#T_17e2c166_c278_11ec_b1b4_acde48001122row0_col3,#T_17e2c166_c278_11ec_b1b4_acde48001122row0_col6,#T_17e2c166_c278_11ec_b1b4_acde48001122row0_col7,#T_17e2c166_c278_11ec_b1b4_acde48001122row0_col8,#T_17e2c166_c278_11ec_b1b4_acde48001122row0_col9,#T_17e2c166_c278_11ec_b1b4_acde48001122row2_col2,#T_17e2c166_c278_11ec_b1b4_acde48001122row2_col7,#T_17e2c166_c278_11ec_b1b4_acde48001122row3_col0,#T_17e2c166_c278_11ec_b1b4_acde48001122row3_col2,#T_17e2c166_c278_11ec_b1b4_acde48001122row6_col6,#T_17e2c166_c278_11ec_b1b4_acde48001122row6_col7,#T_17e2c166_c278_11ec_b1b4_acde48001122row6_col8,#T_17e2c166_c278_11ec_b1b4_acde48001122row8_col3,#T_17e2c166_c278_11ec_b1b4_acde48001122row8_col7,#T_17e2c166_c278_11ec_b1b4_acde48001122row9_col7{\n",
       "            background-color:  olive;\n",
       "        }#T_17e2c166_c278_11ec_b1b4_acde48001122row0_col5,#T_17e2c166_c278_11ec_b1b4_acde48001122row2_col4,#T_17e2c166_c278_11ec_b1b4_acde48001122row3_col7,#T_17e2c166_c278_11ec_b1b4_acde48001122row8_col9{\n",
       "            background-color:  lightcyan;\n",
       "        }#T_17e2c166_c278_11ec_b1b4_acde48001122row1_col0,#T_17e2c166_c278_11ec_b1b4_acde48001122row1_col3,#T_17e2c166_c278_11ec_b1b4_acde48001122row1_col4,#T_17e2c166_c278_11ec_b1b4_acde48001122row1_col9,#T_17e2c166_c278_11ec_b1b4_acde48001122row2_col6,#T_17e2c166_c278_11ec_b1b4_acde48001122row4_col0,#T_17e2c166_c278_11ec_b1b4_acde48001122row4_col1,#T_17e2c166_c278_11ec_b1b4_acde48001122row6_col2,#T_17e2c166_c278_11ec_b1b4_acde48001122row6_col9,#T_17e2c166_c278_11ec_b1b4_acde48001122row7_col2,#T_17e2c166_c278_11ec_b1b4_acde48001122row8_col5,#T_17e2c166_c278_11ec_b1b4_acde48001122row8_col8,#T_17e2c166_c278_11ec_b1b4_acde48001122row9_col5{\n",
       "            background-color:  yellow;\n",
       "        }#T_17e2c166_c278_11ec_b1b4_acde48001122row1_col2,#T_17e2c166_c278_11ec_b1b4_acde48001122row2_col8,#T_17e2c166_c278_11ec_b1b4_acde48001122row4_col3,#T_17e2c166_c278_11ec_b1b4_acde48001122row4_col6,#T_17e2c166_c278_11ec_b1b4_acde48001122row4_col9,#T_17e2c166_c278_11ec_b1b4_acde48001122row5_col0,#T_17e2c166_c278_11ec_b1b4_acde48001122row5_col1,#T_17e2c166_c278_11ec_b1b4_acde48001122row6_col0,#T_17e2c166_c278_11ec_b1b4_acde48001122row7_col1,#T_17e2c166_c278_11ec_b1b4_acde48001122row7_col7,#T_17e2c166_c278_11ec_b1b4_acde48001122row8_col0,#T_17e2c166_c278_11ec_b1b4_acde48001122row9_col3,#T_17e2c166_c278_11ec_b1b4_acde48001122row9_col9{\n",
       "            background-color:  firebrick;\n",
       "        }#T_17e2c166_c278_11ec_b1b4_acde48001122row1_col6,#T_17e2c166_c278_11ec_b1b4_acde48001122row2_col1,#T_17e2c166_c278_11ec_b1b4_acde48001122row3_col3,#T_17e2c166_c278_11ec_b1b4_acde48001122row3_col6,#T_17e2c166_c278_11ec_b1b4_acde48001122row4_col2,#T_17e2c166_c278_11ec_b1b4_acde48001122row5_col4,#T_17e2c166_c278_11ec_b1b4_acde48001122row5_col5,#T_17e2c166_c278_11ec_b1b4_acde48001122row5_col7,#T_17e2c166_c278_11ec_b1b4_acde48001122row6_col4{\n",
       "            background-color:  green;\n",
       "        }#T_17e2c166_c278_11ec_b1b4_acde48001122row1_col8,#T_17e2c166_c278_11ec_b1b4_acde48001122row3_col5,#T_17e2c166_c278_11ec_b1b4_acde48001122row3_col9,#T_17e2c166_c278_11ec_b1b4_acde48001122row4_col5,#T_17e2c166_c278_11ec_b1b4_acde48001122row4_col7,#T_17e2c166_c278_11ec_b1b4_acde48001122row5_col3,#T_17e2c166_c278_11ec_b1b4_acde48001122row6_col1,#T_17e2c166_c278_11ec_b1b4_acde48001122row6_col5,#T_17e2c166_c278_11ec_b1b4_acde48001122row7_col8,#T_17e2c166_c278_11ec_b1b4_acde48001122row8_col2,#T_17e2c166_c278_11ec_b1b4_acde48001122row8_col4,#T_17e2c166_c278_11ec_b1b4_acde48001122row8_col6,#T_17e2c166_c278_11ec_b1b4_acde48001122row9_col6{\n",
       "            background-color:  blue;\n",
       "        }</style><table id=\"T_17e2c166_c278_11ec_b1b4_acde48001122\" ><thead>    <tr>        <th class=\"blank level0\" ></th>        <th class=\"col_heading level0 col0\" >0</th>        <th class=\"col_heading level0 col1\" >1</th>        <th class=\"col_heading level0 col2\" >2</th>        <th class=\"col_heading level0 col3\" >3</th>        <th class=\"col_heading level0 col4\" >4</th>        <th class=\"col_heading level0 col5\" >5</th>        <th class=\"col_heading level0 col6\" >6</th>        <th class=\"col_heading level0 col7\" >7</th>        <th class=\"col_heading level0 col8\" >8</th>        <th class=\"col_heading level0 col9\" >9</th>    </tr></thead><tbody>\n",
       "                <tr>\n",
       "                        <th id=\"T_17e2c166_c278_11ec_b1b4_acde48001122level0_row0\" class=\"row_heading level0 row0\" >0</th>\n",
       "                        <td id=\"T_17e2c166_c278_11ec_b1b4_acde48001122row0_col0\" class=\"data row0 col0\" >5</td>\n",
       "                        <td id=\"T_17e2c166_c278_11ec_b1b4_acde48001122row0_col1\" class=\"data row0 col1\" >6</td>\n",
       "                        <td id=\"T_17e2c166_c278_11ec_b1b4_acde48001122row0_col2\" class=\"data row0 col2\" >1</td>\n",
       "                        <td id=\"T_17e2c166_c278_11ec_b1b4_acde48001122row0_col3\" class=\"data row0 col3\" >7</td>\n",
       "                        <td id=\"T_17e2c166_c278_11ec_b1b4_acde48001122row0_col4\" class=\"data row0 col4\" >6</td>\n",
       "                        <td id=\"T_17e2c166_c278_11ec_b1b4_acde48001122row0_col5\" class=\"data row0 col5\" >9</td>\n",
       "                        <td id=\"T_17e2c166_c278_11ec_b1b4_acde48001122row0_col6\" class=\"data row0 col6\" >7</td>\n",
       "                        <td id=\"T_17e2c166_c278_11ec_b1b4_acde48001122row0_col7\" class=\"data row0 col7\" >7</td>\n",
       "                        <td id=\"T_17e2c166_c278_11ec_b1b4_acde48001122row0_col8\" class=\"data row0 col8\" >7</td>\n",
       "                        <td id=\"T_17e2c166_c278_11ec_b1b4_acde48001122row0_col9\" class=\"data row0 col9\" >7</td>\n",
       "            </tr>\n",
       "            <tr>\n",
       "                        <th id=\"T_17e2c166_c278_11ec_b1b4_acde48001122level0_row1\" class=\"row_heading level0 row1\" >1</th>\n",
       "                        <td id=\"T_17e2c166_c278_11ec_b1b4_acde48001122row1_col0\" class=\"data row1 col0\" >2</td>\n",
       "                        <td id=\"T_17e2c166_c278_11ec_b1b4_acde48001122row1_col1\" class=\"data row1 col1\" >6</td>\n",
       "                        <td id=\"T_17e2c166_c278_11ec_b1b4_acde48001122row1_col2\" class=\"data row1 col2\" >8</td>\n",
       "                        <td id=\"T_17e2c166_c278_11ec_b1b4_acde48001122row1_col3\" class=\"data row1 col3\" >2</td>\n",
       "                        <td id=\"T_17e2c166_c278_11ec_b1b4_acde48001122row1_col4\" class=\"data row1 col4\" >2</td>\n",
       "                        <td id=\"T_17e2c166_c278_11ec_b1b4_acde48001122row1_col5\" class=\"data row1 col5\" >6</td>\n",
       "                        <td id=\"T_17e2c166_c278_11ec_b1b4_acde48001122row1_col6\" class=\"data row1 col6\" >3</td>\n",
       "                        <td id=\"T_17e2c166_c278_11ec_b1b4_acde48001122row1_col7\" class=\"data row1 col7\" >1</td>\n",
       "                        <td id=\"T_17e2c166_c278_11ec_b1b4_acde48001122row1_col8\" class=\"data row1 col8\" >4</td>\n",
       "                        <td id=\"T_17e2c166_c278_11ec_b1b4_acde48001122row1_col9\" class=\"data row1 col9\" >2</td>\n",
       "            </tr>\n",
       "            <tr>\n",
       "                        <th id=\"T_17e2c166_c278_11ec_b1b4_acde48001122level0_row2\" class=\"row_heading level0 row2\" >2</th>\n",
       "                        <td id=\"T_17e2c166_c278_11ec_b1b4_acde48001122row2_col0\" class=\"data row2 col0\" >1</td>\n",
       "                        <td id=\"T_17e2c166_c278_11ec_b1b4_acde48001122row2_col1\" class=\"data row2 col1\" >3</td>\n",
       "                        <td id=\"T_17e2c166_c278_11ec_b1b4_acde48001122row2_col2\" class=\"data row2 col2\" >7</td>\n",
       "                        <td id=\"T_17e2c166_c278_11ec_b1b4_acde48001122row2_col3\" class=\"data row2 col3\" >5</td>\n",
       "                        <td id=\"T_17e2c166_c278_11ec_b1b4_acde48001122row2_col4\" class=\"data row2 col4\" >9</td>\n",
       "                        <td id=\"T_17e2c166_c278_11ec_b1b4_acde48001122row2_col5\" class=\"data row2 col5\" >6</td>\n",
       "                        <td id=\"T_17e2c166_c278_11ec_b1b4_acde48001122row2_col6\" class=\"data row2 col6\" >2</td>\n",
       "                        <td id=\"T_17e2c166_c278_11ec_b1b4_acde48001122row2_col7\" class=\"data row2 col7\" >7</td>\n",
       "                        <td id=\"T_17e2c166_c278_11ec_b1b4_acde48001122row2_col8\" class=\"data row2 col8\" >8</td>\n",
       "                        <td id=\"T_17e2c166_c278_11ec_b1b4_acde48001122row2_col9\" class=\"data row2 col9\" >6</td>\n",
       "            </tr>\n",
       "            <tr>\n",
       "                        <th id=\"T_17e2c166_c278_11ec_b1b4_acde48001122level0_row3\" class=\"row_heading level0 row3\" >3</th>\n",
       "                        <td id=\"T_17e2c166_c278_11ec_b1b4_acde48001122row3_col0\" class=\"data row3 col0\" >7</td>\n",
       "                        <td id=\"T_17e2c166_c278_11ec_b1b4_acde48001122row3_col1\" class=\"data row3 col1\" >6</td>\n",
       "                        <td id=\"T_17e2c166_c278_11ec_b1b4_acde48001122row3_col2\" class=\"data row3 col2\" >7</td>\n",
       "                        <td id=\"T_17e2c166_c278_11ec_b1b4_acde48001122row3_col3\" class=\"data row3 col3\" >3</td>\n",
       "                        <td id=\"T_17e2c166_c278_11ec_b1b4_acde48001122row3_col4\" class=\"data row3 col4\" >5</td>\n",
       "                        <td id=\"T_17e2c166_c278_11ec_b1b4_acde48001122row3_col5\" class=\"data row3 col5\" >4</td>\n",
       "                        <td id=\"T_17e2c166_c278_11ec_b1b4_acde48001122row3_col6\" class=\"data row3 col6\" >3</td>\n",
       "                        <td id=\"T_17e2c166_c278_11ec_b1b4_acde48001122row3_col7\" class=\"data row3 col7\" >9</td>\n",
       "                        <td id=\"T_17e2c166_c278_11ec_b1b4_acde48001122row3_col8\" class=\"data row3 col8\" >6</td>\n",
       "                        <td id=\"T_17e2c166_c278_11ec_b1b4_acde48001122row3_col9\" class=\"data row3 col9\" >4</td>\n",
       "            </tr>\n",
       "            <tr>\n",
       "                        <th id=\"T_17e2c166_c278_11ec_b1b4_acde48001122level0_row4\" class=\"row_heading level0 row4\" >4</th>\n",
       "                        <td id=\"T_17e2c166_c278_11ec_b1b4_acde48001122row4_col0\" class=\"data row4 col0\" >2</td>\n",
       "                        <td id=\"T_17e2c166_c278_11ec_b1b4_acde48001122row4_col1\" class=\"data row4 col1\" >2</td>\n",
       "                        <td id=\"T_17e2c166_c278_11ec_b1b4_acde48001122row4_col2\" class=\"data row4 col2\" >3</td>\n",
       "                        <td id=\"T_17e2c166_c278_11ec_b1b4_acde48001122row4_col3\" class=\"data row4 col3\" >8</td>\n",
       "                        <td id=\"T_17e2c166_c278_11ec_b1b4_acde48001122row4_col4\" class=\"data row4 col4\" >6</td>\n",
       "                        <td id=\"T_17e2c166_c278_11ec_b1b4_acde48001122row4_col5\" class=\"data row4 col5\" >4</td>\n",
       "                        <td id=\"T_17e2c166_c278_11ec_b1b4_acde48001122row4_col6\" class=\"data row4 col6\" >8</td>\n",
       "                        <td id=\"T_17e2c166_c278_11ec_b1b4_acde48001122row4_col7\" class=\"data row4 col7\" >4</td>\n",
       "                        <td id=\"T_17e2c166_c278_11ec_b1b4_acde48001122row4_col8\" class=\"data row4 col8\" >5</td>\n",
       "                        <td id=\"T_17e2c166_c278_11ec_b1b4_acde48001122row4_col9\" class=\"data row4 col9\" >8</td>\n",
       "            </tr>\n",
       "            <tr>\n",
       "                        <th id=\"T_17e2c166_c278_11ec_b1b4_acde48001122level0_row5\" class=\"row_heading level0 row5\" >5</th>\n",
       "                        <td id=\"T_17e2c166_c278_11ec_b1b4_acde48001122row5_col0\" class=\"data row5 col0\" >8</td>\n",
       "                        <td id=\"T_17e2c166_c278_11ec_b1b4_acde48001122row5_col1\" class=\"data row5 col1\" >8</td>\n",
       "                        <td id=\"T_17e2c166_c278_11ec_b1b4_acde48001122row5_col2\" class=\"data row5 col2\" >5</td>\n",
       "                        <td id=\"T_17e2c166_c278_11ec_b1b4_acde48001122row5_col3\" class=\"data row5 col3\" >4</td>\n",
       "                        <td id=\"T_17e2c166_c278_11ec_b1b4_acde48001122row5_col4\" class=\"data row5 col4\" >3</td>\n",
       "                        <td id=\"T_17e2c166_c278_11ec_b1b4_acde48001122row5_col5\" class=\"data row5 col5\" >3</td>\n",
       "                        <td id=\"T_17e2c166_c278_11ec_b1b4_acde48001122row5_col6\" class=\"data row5 col6\" >6</td>\n",
       "                        <td id=\"T_17e2c166_c278_11ec_b1b4_acde48001122row5_col7\" class=\"data row5 col7\" >3</td>\n",
       "                        <td id=\"T_17e2c166_c278_11ec_b1b4_acde48001122row5_col8\" class=\"data row5 col8\" >1</td>\n",
       "                        <td id=\"T_17e2c166_c278_11ec_b1b4_acde48001122row5_col9\" class=\"data row5 col9\" >5</td>\n",
       "            </tr>\n",
       "            <tr>\n",
       "                        <th id=\"T_17e2c166_c278_11ec_b1b4_acde48001122level0_row6\" class=\"row_heading level0 row6\" >6</th>\n",
       "                        <td id=\"T_17e2c166_c278_11ec_b1b4_acde48001122row6_col0\" class=\"data row6 col0\" >8</td>\n",
       "                        <td id=\"T_17e2c166_c278_11ec_b1b4_acde48001122row6_col1\" class=\"data row6 col1\" >4</td>\n",
       "                        <td id=\"T_17e2c166_c278_11ec_b1b4_acde48001122row6_col2\" class=\"data row6 col2\" >2</td>\n",
       "                        <td id=\"T_17e2c166_c278_11ec_b1b4_acde48001122row6_col3\" class=\"data row6 col3\" >5</td>\n",
       "                        <td id=\"T_17e2c166_c278_11ec_b1b4_acde48001122row6_col4\" class=\"data row6 col4\" >3</td>\n",
       "                        <td id=\"T_17e2c166_c278_11ec_b1b4_acde48001122row6_col5\" class=\"data row6 col5\" >4</td>\n",
       "                        <td id=\"T_17e2c166_c278_11ec_b1b4_acde48001122row6_col6\" class=\"data row6 col6\" >7</td>\n",
       "                        <td id=\"T_17e2c166_c278_11ec_b1b4_acde48001122row6_col7\" class=\"data row6 col7\" >7</td>\n",
       "                        <td id=\"T_17e2c166_c278_11ec_b1b4_acde48001122row6_col8\" class=\"data row6 col8\" >7</td>\n",
       "                        <td id=\"T_17e2c166_c278_11ec_b1b4_acde48001122row6_col9\" class=\"data row6 col9\" >2</td>\n",
       "            </tr>\n",
       "            <tr>\n",
       "                        <th id=\"T_17e2c166_c278_11ec_b1b4_acde48001122level0_row7\" class=\"row_heading level0 row7\" >7</th>\n",
       "                        <td id=\"T_17e2c166_c278_11ec_b1b4_acde48001122row7_col0\" class=\"data row7 col0\" >6</td>\n",
       "                        <td id=\"T_17e2c166_c278_11ec_b1b4_acde48001122row7_col1\" class=\"data row7 col1\" >8</td>\n",
       "                        <td id=\"T_17e2c166_c278_11ec_b1b4_acde48001122row7_col2\" class=\"data row7 col2\" >2</td>\n",
       "                        <td id=\"T_17e2c166_c278_11ec_b1b4_acde48001122row7_col3\" class=\"data row7 col3\" >6</td>\n",
       "                        <td id=\"T_17e2c166_c278_11ec_b1b4_acde48001122row7_col4\" class=\"data row7 col4\" >1</td>\n",
       "                        <td id=\"T_17e2c166_c278_11ec_b1b4_acde48001122row7_col5\" class=\"data row7 col5\" >1</td>\n",
       "                        <td id=\"T_17e2c166_c278_11ec_b1b4_acde48001122row7_col6\" class=\"data row7 col6\" >5</td>\n",
       "                        <td id=\"T_17e2c166_c278_11ec_b1b4_acde48001122row7_col7\" class=\"data row7 col7\" >8</td>\n",
       "                        <td id=\"T_17e2c166_c278_11ec_b1b4_acde48001122row7_col8\" class=\"data row7 col8\" >4</td>\n",
       "                        <td id=\"T_17e2c166_c278_11ec_b1b4_acde48001122row7_col9\" class=\"data row7 col9\" >5</td>\n",
       "            </tr>\n",
       "            <tr>\n",
       "                        <th id=\"T_17e2c166_c278_11ec_b1b4_acde48001122level0_row8\" class=\"row_heading level0 row8\" >8</th>\n",
       "                        <td id=\"T_17e2c166_c278_11ec_b1b4_acde48001122row8_col0\" class=\"data row8 col0\" >8</td>\n",
       "                        <td id=\"T_17e2c166_c278_11ec_b1b4_acde48001122row8_col1\" class=\"data row8 col1\" >1</td>\n",
       "                        <td id=\"T_17e2c166_c278_11ec_b1b4_acde48001122row8_col2\" class=\"data row8 col2\" >4</td>\n",
       "                        <td id=\"T_17e2c166_c278_11ec_b1b4_acde48001122row8_col3\" class=\"data row8 col3\" >7</td>\n",
       "                        <td id=\"T_17e2c166_c278_11ec_b1b4_acde48001122row8_col4\" class=\"data row8 col4\" >4</td>\n",
       "                        <td id=\"T_17e2c166_c278_11ec_b1b4_acde48001122row8_col5\" class=\"data row8 col5\" >2</td>\n",
       "                        <td id=\"T_17e2c166_c278_11ec_b1b4_acde48001122row8_col6\" class=\"data row8 col6\" >4</td>\n",
       "                        <td id=\"T_17e2c166_c278_11ec_b1b4_acde48001122row8_col7\" class=\"data row8 col7\" >7</td>\n",
       "                        <td id=\"T_17e2c166_c278_11ec_b1b4_acde48001122row8_col8\" class=\"data row8 col8\" >2</td>\n",
       "                        <td id=\"T_17e2c166_c278_11ec_b1b4_acde48001122row8_col9\" class=\"data row8 col9\" >9</td>\n",
       "            </tr>\n",
       "            <tr>\n",
       "                        <th id=\"T_17e2c166_c278_11ec_b1b4_acde48001122level0_row9\" class=\"row_heading level0 row9\" >9</th>\n",
       "                        <td id=\"T_17e2c166_c278_11ec_b1b4_acde48001122row9_col0\" class=\"data row9 col0\" >1</td>\n",
       "                        <td id=\"T_17e2c166_c278_11ec_b1b4_acde48001122row9_col1\" class=\"data row9 col1\" >6</td>\n",
       "                        <td id=\"T_17e2c166_c278_11ec_b1b4_acde48001122row9_col2\" class=\"data row9 col2\" >1</td>\n",
       "                        <td id=\"T_17e2c166_c278_11ec_b1b4_acde48001122row9_col3\" class=\"data row9 col3\" >8</td>\n",
       "                        <td id=\"T_17e2c166_c278_11ec_b1b4_acde48001122row9_col4\" class=\"data row9 col4\" >1</td>\n",
       "                        <td id=\"T_17e2c166_c278_11ec_b1b4_acde48001122row9_col5\" class=\"data row9 col5\" >2</td>\n",
       "                        <td id=\"T_17e2c166_c278_11ec_b1b4_acde48001122row9_col6\" class=\"data row9 col6\" >4</td>\n",
       "                        <td id=\"T_17e2c166_c278_11ec_b1b4_acde48001122row9_col7\" class=\"data row9 col7\" >7</td>\n",
       "                        <td id=\"T_17e2c166_c278_11ec_b1b4_acde48001122row9_col8\" class=\"data row9 col8\" >5</td>\n",
       "                        <td id=\"T_17e2c166_c278_11ec_b1b4_acde48001122row9_col9\" class=\"data row9 col9\" >8</td>\n",
       "            </tr>\n",
       "    </tbody></table>"
      ],
      "text/plain": [
       "<pandas.io.formats.style.Styler at 0x7f99a3584668>"
      ]
     },
     "execution_count": 17,
     "metadata": {},
     "output_type": "execute_result"
    }
   ],
   "source": [
    "### Not a good use of color!\n",
    "# Adding colors can be more distracting than helpful!\n",
    "(pd.DataFrame(NUMBER_GRID)\n",
    " .style\n",
    " .applymap(apply_bg_colormap))"
   ]
  },
  {
   "cell_type": "code",
   "execution_count": 18,
   "id": "39f4ea69",
   "metadata": {
    "ExecuteTime": {
     "end_time": "2022-04-22T20:09:19.710511Z",
     "start_time": "2022-04-22T20:09:19.434229Z"
    },
    "slideshow": {
     "slide_type": "slide"
    }
   },
   "outputs": [
    {
     "data": {
      "image/png": "[encoded data removed]",
      "text/plain": [
       "<Figure size 864x432 with 1 Axes>"
      ]
     },
     "metadata": {
      "needs_background": "light"
     },
     "output_type": "display_data"
    }
   ],
   "source": [
    "### Not a good use of color!\n",
    "# Color in this plot is redundant to the x-axis.\n",
    "fig, ax = plt.subplots(figsize=(12, 6))\n",
    "sns.barplot(data=NUMBER_GRID, ax=ax, ci=False)\n",
    "ax.axis('off')\n",
    "fig.tight_layout()"
   ]
  },
  {
   "cell_type": "markdown",
   "id": "1131cea0",
   "metadata": {
    "slideshow": {
     "slide_type": "slide"
    }
   },
   "source": [
    "### Using Color Effectively"
   ]
  },
  {
   "cell_type": "markdown",
   "id": "15c8d6be",
   "metadata": {
    "slideshow": {
     "slide_type": "subslide"
    }
   },
   "source": [
    "#### *Sequential Colors*\n",
    "<img src='images/irish-american.jpeg' width=500>"
   ]
  },
  {
   "cell_type": "markdown",
   "id": "a0ebc8d1",
   "metadata": {
    "slideshow": {
     "slide_type": "subslide"
    }
   },
   "source": [
    "#### *Diverging Colors*\n",
    "\n",
    "<img src='images/1times.png' width=500>"
   ]
  },
  {
   "cell_type": "markdown",
   "id": "adb58ba1",
   "metadata": {
    "slideshow": {
     "slide_type": "subslide"
    }
   },
   "source": [
    "#### *Categorical Colors*"
   ]
  },
  {
   "cell_type": "code",
   "execution_count": 19,
   "id": "a3b84728",
   "metadata": {
    "ExecuteTime": {
     "end_time": "2022-04-22T20:09:19.955990Z",
     "start_time": "2022-04-22T20:09:19.713033Z"
    },
    "slideshow": {
     "slide_type": "fragment"
    }
   },
   "outputs": [
    {
     "data": {
      "image/png": "[encoded data removed]",
      "text/plain": [
       "<Figure size 864x432 with 1 Axes>"
      ]
     },
     "metadata": {
      "needs_background": "light"
     },
     "output_type": "display_data"
    }
   ],
   "source": [
    "with plt.style.context(['seaborn-talk', 'tableau-colorblind10']):\n",
    "    fig, ax = plt.subplots(figsize=(12,6))\n",
    "    sns.scatterplot(\n",
    "        x='sepal_length', y='sepal_width', hue='species', \n",
    "        data=sns.load_dataset('iris'), s=150, ax=ax\n",
    "        )\n",
    "    ax.set(title='Iris Species', xlabel='Sepal Length', ylabel='Sepal Width')\n",
    "    fig.tight_layout()"
   ]
  },
  {
   "cell_type": "code",
   "execution_count": 20,
   "id": "d8d392fa",
   "metadata": {
    "ExecuteTime": {
     "end_time": "2022-04-22T20:09:19.961018Z",
     "start_time": "2022-04-22T20:09:19.957929Z"
    },
    "slideshow": {
     "slide_type": "skip"
    }
   },
   "outputs": [],
   "source": [
    "highest_mean_idx = np.argmax(NUMBER_GRID.mean(axis=0))\n",
    "lowest_mean_idx = np.argmin(NUMBER_GRID.mean(axis=0))\n",
    "colors = ['tab:blue' if c == highest_mean_idx \n",
    "          else 'tab:red' if c == lowest_mean_idx\n",
    "          else 'lightgrey'\n",
    "          for c in range(NUMBER_GRID.shape[0])]"
   ]
  },
  {
   "cell_type": "code",
   "execution_count": 21,
   "id": "da597589",
   "metadata": {
    "ExecuteTime": {
     "end_time": "2022-04-22T20:09:19.965548Z",
     "start_time": "2022-04-22T20:09:19.962419Z"
    },
    "slideshow": {
     "slide_type": "skip"
    }
   },
   "outputs": [
    {
     "data": {
      "text/plain": [
       "['lightgrey',\n",
       " 'lightgrey',\n",
       " 'tab:red',\n",
       " 'lightgrey',\n",
       " 'lightgrey',\n",
       " 'lightgrey',\n",
       " 'lightgrey',\n",
       " 'tab:blue',\n",
       " 'lightgrey',\n",
       " 'lightgrey']"
      ]
     },
     "execution_count": 21,
     "metadata": {},
     "output_type": "execute_result"
    }
   ],
   "source": [
    "colors"
   ]
  },
  {
   "cell_type": "markdown",
   "id": "b7fe06e5",
   "metadata": {
    "slideshow": {
     "slide_type": "slide"
    }
   },
   "source": [
    "### Highlight / Alert"
   ]
  },
  {
   "cell_type": "code",
   "execution_count": 22,
   "id": "ff03c797",
   "metadata": {
    "ExecuteTime": {
     "end_time": "2022-04-22T20:09:20.051471Z",
     "start_time": "2022-04-22T20:09:19.967153Z"
    },
    "slideshow": {
     "slide_type": "fragment"
    }
   },
   "outputs": [
    {
     "data": {
      "image/png": "[encoded data removed]",
      "text/plain": [
       "<Figure size 864x432 with 1 Axes>"
      ]
     },
     "metadata": {
      "needs_background": "light"
     },
     "output_type": "display_data"
    }
   ],
   "source": [
    "# The color in this plot is used to highlight a certain value.\n",
    "# Blue is a highlight, Red is an alert.\n",
    "fig, ax = plt.subplots(figsize=(12, 6))\n",
    "ax.bar(x=range(10), height=NUMBER_GRID.mean(axis=0), color=colors)\n",
    "ax.axis('off')\n",
    "fig.tight_layout()"
   ]
  },
  {
   "cell_type": "markdown",
   "id": "4275b77b",
   "metadata": {
    "slideshow": {
     "slide_type": "slide"
    }
   },
   "source": [
    "# Common Chart Types"
   ]
  },
  {
   "cell_type": "code",
   "execution_count": 23,
   "id": "23e694de",
   "metadata": {
    "ExecuteTime": {
     "end_time": "2022-04-22T20:09:20.198600Z",
     "start_time": "2022-04-22T20:09:20.053000Z"
    },
    "slideshow": {
     "slide_type": "subslide"
    }
   },
   "outputs": [
    {
     "data": {
      "image/png": "[encoded data removed]",
      "text/plain": [
       "<Figure size 864x432 with 1 Axes>"
      ]
     },
     "metadata": {},
     "output_type": "display_data"
    }
   ],
   "source": [
    "# Bar\n",
    "with plt.style.context(['seaborn-talk', 'ggplot']):\n",
    "    fig, ax = plt.subplots(figsize=(12,6))\n",
    "    ax.bar(x=['NORTH', 'SOUTH', 'EAST', 'WEST'], \n",
    "           height=[2,3,6,4], \n",
    "           color='tab:blue')\n",
    "    ax.set(title='Bar Chart', ylabel='Values', xlabel='Direction')\n",
    "    fig.tight_layout()"
   ]
  },
  {
   "cell_type": "code",
   "execution_count": 24,
   "id": "b80ad24b",
   "metadata": {
    "ExecuteTime": {
     "end_time": "2022-04-22T20:09:20.349458Z",
     "start_time": "2022-04-22T20:09:20.200236Z"
    },
    "slideshow": {
     "slide_type": "subslide"
    }
   },
   "outputs": [
    {
     "data": {
      "image/png": "[encoded data removed]",
      "text/plain": [
       "<Figure size 864x432 with 1 Axes>"
      ]
     },
     "metadata": {
      "needs_background": "light"
     },
     "output_type": "display_data"
    }
   ],
   "source": [
    "# Line\n",
    "fig, ax = plt.subplots(figsize=(12,6))\n",
    "ax.plot([f'Day: {x}' for x in range(1, 11)], \n",
    "        [10,13,14,11,15,16,19,19,18,20], \n",
    "        color='tab:green')\n",
    "ax.set(title='Line Chart', ylabel='Value')\n",
    "fig.tight_layout()"
   ]
  },
  {
   "cell_type": "code",
   "execution_count": 25,
   "id": "eead7513",
   "metadata": {
    "ExecuteTime": {
     "end_time": "2022-04-22T20:09:20.525945Z",
     "start_time": "2022-04-22T20:09:20.351231Z"
    },
    "slideshow": {
     "slide_type": "subslide"
    }
   },
   "outputs": [
    {
     "data": {
      "image/png": "[encoded data removed]",
      "text/plain": [
       "<Figure size 864x432 with 1 Axes>"
      ]
     },
     "metadata": {
      "needs_background": "light"
     },
     "output_type": "display_data"
    }
   ],
   "source": [
    "# Scatter\n",
    "with plt.style.context('tableau-colorblind10'):\n",
    "    fig, ax = plt.subplots(figsize=(12,6))\n",
    "    sns.scatterplot(x='weight', y='mpg', data=sns.load_dataset('mpg'), alpha=0.6)\n",
    "    ax.set(title='Scatter Chart\\nMPG vs Weight')\n",
    "    fig.tight_layout()"
   ]
  },
  {
   "cell_type": "code",
   "execution_count": 26,
   "id": "ed0bf889",
   "metadata": {
    "ExecuteTime": {
     "end_time": "2022-04-22T20:09:20.714077Z",
     "start_time": "2022-04-22T20:09:20.527917Z"
    },
    "slideshow": {
     "slide_type": "subslide"
    }
   },
   "outputs": [
    {
     "data": {
      "image/png": "[encoded data removed]",
      "text/plain": [
       "<Figure size 864x432 with 1 Axes>"
      ]
     },
     "metadata": {
      "needs_background": "light"
     },
     "output_type": "display_data"
    }
   ],
   "source": [
    "# Histogram\n",
    "fig, ax = plt.subplots(figsize=(12,6))\n",
    "sns.histplot(x='pulse',\n",
    "             data=sns.load_dataset('exercise'),\n",
    "             ax=ax)\n",
    "ax.set(title='Histogram\\nPatient Pulse')\n",
    "fig.tight_layout()"
   ]
  },
  {
   "cell_type": "markdown",
   "id": "bd46e14d",
   "metadata": {
    "slideshow": {
     "slide_type": "slide"
    }
   },
   "source": [
    "# Recommended Strategy\n",
    "\n",
    "Importantly, choosing the right visualization should almost always begin with asking \"***What do I want to show?***\" rather than \"*What chart should I use?*\".\n",
    "\n",
    "- Comparison\n",
    "- Proportion\n",
    "- Relationship\n",
    "- Part of a Whole\n",
    "- Distribution\n",
    "- Patterns\n",
    "- Range\n",
    "- Data Over Time\n",
    "\n",
    "---\n",
    "\n",
    "Once this is established, thinking about ***how*** to show this becomes much simpler."
   ]
  },
  {
   "cell_type": "markdown",
   "id": "78aafc9f",
   "metadata": {
    "slideshow": {
     "slide_type": "slide"
    }
   },
   "source": [
    "# Visualization Checklist\n",
    "> ***TDWI*** *(Transforming Data with Intelligence)*\n",
    ">\n",
    "> *...a checklist of criteria to evaluate the overall impact that can be achieved with a visual design.*\n",
    "\n",
    "- Know the *Intent*\n",
    "- Know the *Messaging*\n",
    "- Know the *Audience*"
   ]
  },
  {
   "cell_type": "markdown",
   "id": "f5610305",
   "metadata": {
    "slideshow": {
     "slide_type": "subslide"
    }
   },
   "source": [
    "- Fitted to audience\n",
    "- Fitted to purpose\n",
    "- Accurate\n",
    "- Distortion free\n",
    "- Precise\n",
    "- Clear\n",
    "- Understandable\n",
    "- Visually appealing\n",
    "- Communicates knowledge\n",
    "- Encourages comparisons\n",
    "- Tells a story\n",
    "- Inspires conversations"
   ]
  },
  {
   "cell_type": "markdown",
   "id": "7ec35130",
   "metadata": {
    "slideshow": {
     "slide_type": "slide"
    }
   },
   "source": [
    "# Recommended Readings\n",
    "\n",
    "- <a href='https://matplotlib.org/stable/tutorials/colors/colormaps.html'>*Matplotlib - Colormaps*</a>\n",
    "\n",
    "---\n",
    "\n",
    "- <a href='https://datavizcatalogue.com/'>*Data Viz Catalogue - Search Charts by Function or Type*</a>\n",
    "- <a href='https://drive.google.com/file/d/1_lDSciPz9s_hidr0imPg-3moj5hRCoEH/view?usp=sharing'>*Chart Suggestions - A Thought-Starter*</a>\n",
    "- <a href='https://www.tableau.com/learn/articles/data-visualization-tips'>*Tableau - Data Visualization Tips*</a>\n",
    "- <a href='https://www.tableau.com/iron-viz/gallery'>*Tableau - Iron Viz Gallery*</a>\n",
    "> *Iron Viz—the world’s largest virtual data visualization competition—ignites and showcases the power of the Tableau Community, giving you the opportunity to interact with data rockstars worldwide.*\n",
    "> - *https://www.tableau.com/community/iron-viz*\n",
    "- <a href='https://www.bigbookofdashboards.com/'>*Big Book of Dashboards*</a>\n",
    "- <a href='https://tdwi.org/Home.aspx'>*Transforming Data with Intelligence (TDWI)*</a>\n",
    "- <a href='https://www.gooddata.com/blog/8-ways-turn-good-data-great-visualizations/'>*Good Data - 8 Ways to Turn Good Data into Great Visualizations*</a>"
   ]
  }
 ],
 "metadata": {
  "celltoolbar": "Slideshow",
  "kernelspec": {
   "display_name": "Python 3",
   "language": "python",
   "name": "python3"
  },
  "language_info": {
   "codemirror_mode": {
    "name": "ipython",
    "version": 3
   },
   "file_extension": ".py",
   "mimetype": "text/x-python",
   "name": "python",
   "nbconvert_exporter": "python",
   "pygments_lexer": "ipython3",
   "version": "3.6.9"
  },
  "toc": {
   "base_numbering": 1,
   "nav_menu": {},
   "number_sections": false,
   "sideBar": true,
   "skip_h1_title": false,
   "title_cell": "Table of Contents",
   "title_sidebar": "Contents",
   "toc_cell": false,
   "toc_position": {
    "height": "calc(100% - 180px)",
    "left": "10px",
    "top": "150px",
    "width": "298px"
   },
   "toc_section_display": true,
   "toc_window_display": false
  }
 },
 "nbformat": 4,
 "nbformat_minor": 5
}
